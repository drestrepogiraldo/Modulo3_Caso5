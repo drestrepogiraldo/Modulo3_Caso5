{
 "cells": [
  {
   "cell_type": "markdown",
   "source": "\n<figure>\n<img src=\"/work/Modulo3_Caso5/fig/ISEADE LOGO Y ESCUDO.png\" align=\"center\"/> \n</figure> ",
   "metadata": {
    "tags": [],
    "cell_id": "29456b4b-6d41-4de5-82d1-0616e2462cfc",
    "deepnote_cell_type": "markdown",
    "deepnote_cell_height": 387.71875
   }
  },
  {
   "cell_type": "markdown",
   "source": "# Caso 5 - Clasificación",
   "metadata": {
    "tags": [],
    "cell_id": "00001-aeabf084-4e21-4503-972e-219e4721e3fa",
    "deepnote_cell_type": "markdown",
    "deepnote_cell_height": 82
   }
  },
  {
   "cell_type": "markdown",
   "source": "## 5.1. Problema de Negocio\n\nActualmente la empresa en la que se encuentra trabajando està teniendo un problema de retención de talento. Le ha sido asignada la tarea de entender este comportamiento y encontrar la razón por la cual las personas se van de la compañía.",
   "metadata": {
    "tags": [],
    "cell_id": "00002-b588988f-e22b-45da-a774-82d2c0137e9a",
    "deepnote_cell_type": "markdown",
    "deepnote_cell_height": 130.796875
   }
  },
  {
   "cell_type": "markdown",
   "source": "## 5.2. Importación de Módulos",
   "metadata": {
    "tags": [],
    "cell_id": "00004-ad2987ca-6b3b-4635-a70b-91ff4450a03c",
    "deepnote_cell_type": "markdown",
    "deepnote_cell_height": 70
   }
  },
  {
   "cell_type": "code",
   "metadata": {
    "cell_id": "b59ab93d-435c-4c73-b044-d787d5ac9c87",
    "tags": [],
    "deepnote_to_be_reexecuted": false,
    "source_hash": "5a54eb10",
    "execution_start": 1647107025440,
    "execution_millis": 3099,
    "deepnote_cell_type": "code",
    "deepnote_cell_height": 338.875
   },
   "source": "!pip install statsmodels==0.12.2",
   "execution_count": null,
   "outputs": [
    {
     "name": "stdout",
     "text": "Requirement already satisfied: statsmodels==0.12.2 in /root/venv/lib/python3.7/site-packages (0.12.2)\nRequirement already satisfied: scipy>=1.1 in /shared-libs/python3.7/py/lib/python3.7/site-packages (from statsmodels==0.12.2) (1.7.3)\nRequirement already satisfied: numpy>=1.15 in /shared-libs/python3.7/py-core/lib/python3.7/site-packages (from statsmodels==0.12.2) (1.21.5)\nRequirement already satisfied: patsy>=0.5 in /root/venv/lib/python3.7/site-packages (from statsmodels==0.12.2) (0.5.2)\nRequirement already satisfied: pandas>=0.21 in /shared-libs/python3.7/py/lib/python3.7/site-packages (from statsmodels==0.12.2) (1.3.5)\nRequirement already satisfied: six in /shared-libs/python3.7/py-core/lib/python3.7/site-packages (from patsy>=0.5->statsmodels==0.12.2) (1.16.0)\nRequirement already satisfied: pytz>=2017.3 in /shared-libs/python3.7/py-core/lib/python3.7/site-packages (from pandas>=0.21->statsmodels==0.12.2) (2021.3)\nRequirement already satisfied: python-dateutil>=2.7.3 in /shared-libs/python3.7/py-core/lib/python3.7/site-packages (from pandas>=0.21->statsmodels==0.12.2) (2.8.2)\n\u001b[33mWARNING: You are using pip version 20.1.1; however, version 22.0.4 is available.\nYou should consider upgrading via the '/root/venv/bin/python -m pip install --upgrade pip' command.\u001b[0m\n",
     "output_type": "stream"
    }
   ]
  },
  {
   "cell_type": "code",
   "metadata": {
    "tags": [],
    "deepnote_to_be_reexecuted": false,
    "source_hash": "d9b8519f",
    "execution_start": 1647107028537,
    "execution_millis": 1783,
    "cell_id": "00006-e1a871b9-c8b2-434c-ad97-73f4b71cf0ff",
    "deepnote_cell_type": "code",
    "deepnote_cell_height": 297
   },
   "source": "import numpy as np \nimport pandas as pd \nimport seaborn as sns \nimport matplotlib.pyplot as plt\nimport sklearn\n\nimport statsmodels.api as sm\nfrom sklearn.model_selection import cross_val_score\nfrom sklearn.metrics import roc_auc_score\nfrom sklearn.metrics import roc_curve, auc\n\nimport statsmodels.formula.api as sfm\n",
   "execution_count": null,
   "outputs": []
  },
  {
   "cell_type": "markdown",
   "source": "## 5.3. Importación de Datos\n\nLa información fue descargada de un conjunto de datos disponible en [Kaggle](https://www.kaggle.com/pavansubhasht/ibm-hr-analytics-attrition-dataset). Estos datos son tabulares, y se encuentran en formato .csv. Por lo tanto pueden ser cargadas como una tabla en python. Esto puede ser realizado por medio de un DataFrame de pandas. ",
   "metadata": {
    "tags": [],
    "cell_id": "00007-69516a98-14d3-4c31-ad78-ebcfb151a447",
    "deepnote_cell_type": "markdown",
    "deepnote_cell_height": 152
   }
  },
  {
   "cell_type": "code",
   "metadata": {
    "tags": [],
    "deepnote_to_be_reexecuted": false,
    "source_hash": "16e5b93e",
    "execution_start": 1647107030324,
    "execution_millis": 83,
    "cell_id": "00008-6cd634ae-e9ab-4c1e-96f2-cda18d9dd404",
    "deepnote_cell_type": "code",
    "deepnote_cell_height": 428
   },
   "source": "df_HR = pd.read_csv('/work/Modulo3_Caso5/data/WA_Fn-UseC_-HR-Employee-Attrition.csv')\ndf_HR.head(5)",
   "execution_count": null,
   "outputs": [
    {
     "output_type": "execute_result",
     "execution_count": 3,
     "data": {
      "application/vnd.deepnote.dataframe.v3+json": {
       "column_count": 35,
       "row_count": 5,
       "columns": [
        {
         "name": "Age",
         "dtype": "int64",
         "stats": {
          "unique_count": 5,
          "nan_count": 0,
          "min": "27",
          "max": "49",
          "histogram": [
           {
            "bin_start": 27,
            "bin_end": 29.2,
            "count": 1
           },
           {
            "bin_start": 29.2,
            "bin_end": 31.4,
            "count": 0
           },
           {
            "bin_start": 31.4,
            "bin_end": 33.6,
            "count": 1
           },
           {
            "bin_start": 33.6,
            "bin_end": 35.8,
            "count": 0
           },
           {
            "bin_start": 35.8,
            "bin_end": 38,
            "count": 1
           },
           {
            "bin_start": 38,
            "bin_end": 40.2,
            "count": 0
           },
           {
            "bin_start": 40.2,
            "bin_end": 42.400000000000006,
            "count": 1
           },
           {
            "bin_start": 42.400000000000006,
            "bin_end": 44.6,
            "count": 0
           },
           {
            "bin_start": 44.6,
            "bin_end": 46.8,
            "count": 0
           },
           {
            "bin_start": 46.8,
            "bin_end": 49,
            "count": 1
           }
          ]
         }
        },
        {
         "name": "Attrition",
         "dtype": "object",
         "stats": {
          "unique_count": 2,
          "nan_count": 0,
          "categories": [
           {
            "name": "No",
            "count": 3
           },
           {
            "name": "Yes",
            "count": 2
           }
          ]
         }
        },
        {
         "name": "BusinessTravel",
         "dtype": "object",
         "stats": {
          "unique_count": 2,
          "nan_count": 0,
          "categories": [
           {
            "name": "Travel_Rarely",
            "count": 3
           },
           {
            "name": "Travel_Frequently",
            "count": 2
           }
          ]
         }
        },
        {
         "name": "DailyRate",
         "dtype": "int64",
         "stats": {
          "unique_count": 5,
          "nan_count": 0,
          "min": "279",
          "max": "1392",
          "histogram": [
           {
            "bin_start": 279,
            "bin_end": 390.3,
            "count": 1
           },
           {
            "bin_start": 390.3,
            "bin_end": 501.6,
            "count": 0
           },
           {
            "bin_start": 501.6,
            "bin_end": 612.9,
            "count": 1
           },
           {
            "bin_start": 612.9,
            "bin_end": 724.2,
            "count": 0
           },
           {
            "bin_start": 724.2,
            "bin_end": 835.5,
            "count": 0
           },
           {
            "bin_start": 835.5,
            "bin_end": 946.8,
            "count": 0
           },
           {
            "bin_start": 946.8,
            "bin_end": 1058.1,
            "count": 0
           },
           {
            "bin_start": 1058.1,
            "bin_end": 1169.4,
            "count": 1
           },
           {
            "bin_start": 1169.4,
            "bin_end": 1280.6999999999998,
            "count": 0
           },
           {
            "bin_start": 1280.6999999999998,
            "bin_end": 1392,
            "count": 2
           }
          ]
         }
        },
        {
         "name": "Department",
         "dtype": "object",
         "stats": {
          "unique_count": 2,
          "nan_count": 0,
          "categories": [
           {
            "name": "Research & Development",
            "count": 4
           },
           {
            "name": "Sales",
            "count": 1
           }
          ]
         }
        },
        {
         "name": "DistanceFromHome",
         "dtype": "int64",
         "stats": {
          "unique_count": 4,
          "nan_count": 0,
          "min": "1",
          "max": "8",
          "histogram": [
           {
            "bin_start": 1,
            "bin_end": 1.7,
            "count": 1
           },
           {
            "bin_start": 1.7,
            "bin_end": 2.4,
            "count": 2
           },
           {
            "bin_start": 2.4,
            "bin_end": 3.0999999999999996,
            "count": 1
           },
           {
            "bin_start": 3.0999999999999996,
            "bin_end": 3.8,
            "count": 0
           },
           {
            "bin_start": 3.8,
            "bin_end": 4.5,
            "count": 0
           },
           {
            "bin_start": 4.5,
            "bin_end": 5.199999999999999,
            "count": 0
           },
           {
            "bin_start": 5.199999999999999,
            "bin_end": 5.8999999999999995,
            "count": 0
           },
           {
            "bin_start": 5.8999999999999995,
            "bin_end": 6.6,
            "count": 0
           },
           {
            "bin_start": 6.6,
            "bin_end": 7.3,
            "count": 0
           },
           {
            "bin_start": 7.3,
            "bin_end": 8,
            "count": 1
           }
          ]
         }
        },
        {
         "name": "Education",
         "dtype": "int64",
         "stats": {
          "unique_count": 3,
          "nan_count": 0,
          "min": "1",
          "max": "4",
          "histogram": [
           {
            "bin_start": 1,
            "bin_end": 1.3,
            "count": 2
           },
           {
            "bin_start": 1.3,
            "bin_end": 1.6,
            "count": 0
           },
           {
            "bin_start": 1.6,
            "bin_end": 1.9,
            "count": 0
           },
           {
            "bin_start": 1.9,
            "bin_end": 2.2,
            "count": 2
           },
           {
            "bin_start": 2.2,
            "bin_end": 2.5,
            "count": 0
           },
           {
            "bin_start": 2.5,
            "bin_end": 2.8,
            "count": 0
           },
           {
            "bin_start": 2.8,
            "bin_end": 3.1,
            "count": 0
           },
           {
            "bin_start": 3.1,
            "bin_end": 3.4,
            "count": 0
           },
           {
            "bin_start": 3.4,
            "bin_end": 3.6999999999999997,
            "count": 0
           },
           {
            "bin_start": 3.6999999999999997,
            "bin_end": 4,
            "count": 1
           }
          ]
         }
        },
        {
         "name": "EducationField",
         "dtype": "object",
         "stats": {
          "unique_count": 3,
          "nan_count": 0,
          "categories": [
           {
            "name": "Life Sciences",
            "count": 3
           },
           {
            "name": "Other",
            "count": 1
           },
           {
            "name": "Medical",
            "count": 1
           }
          ]
         }
        },
        {
         "name": "EmployeeCount",
         "dtype": "int64",
         "stats": {
          "unique_count": 1,
          "nan_count": 0,
          "min": "1",
          "max": "1",
          "histogram": [
           {
            "bin_start": 0.5,
            "bin_end": 0.6,
            "count": 0
           },
           {
            "bin_start": 0.6,
            "bin_end": 0.7,
            "count": 0
           },
           {
            "bin_start": 0.7,
            "bin_end": 0.8,
            "count": 0
           },
           {
            "bin_start": 0.8,
            "bin_end": 0.9,
            "count": 0
           },
           {
            "bin_start": 0.9,
            "bin_end": 1,
            "count": 0
           },
           {
            "bin_start": 1,
            "bin_end": 1.1,
            "count": 5
           },
           {
            "bin_start": 1.1,
            "bin_end": 1.2000000000000002,
            "count": 0
           },
           {
            "bin_start": 1.2000000000000002,
            "bin_end": 1.3,
            "count": 0
           },
           {
            "bin_start": 1.3,
            "bin_end": 1.4,
            "count": 0
           },
           {
            "bin_start": 1.4,
            "bin_end": 1.5,
            "count": 0
           }
          ]
         }
        },
        {
         "name": "EmployeeNumber",
         "dtype": "int64",
         "stats": {
          "unique_count": 5,
          "nan_count": 0,
          "min": "1",
          "max": "7",
          "histogram": [
           {
            "bin_start": 1,
            "bin_end": 1.6,
            "count": 1
           },
           {
            "bin_start": 1.6,
            "bin_end": 2.2,
            "count": 1
           },
           {
            "bin_start": 2.2,
            "bin_end": 2.8,
            "count": 0
           },
           {
            "bin_start": 2.8,
            "bin_end": 3.4,
            "count": 0
           },
           {
            "bin_start": 3.4,
            "bin_end": 4,
            "count": 0
           },
           {
            "bin_start": 4,
            "bin_end": 4.6,
            "count": 1
           },
           {
            "bin_start": 4.6,
            "bin_end": 5.2,
            "count": 1
           },
           {
            "bin_start": 5.2,
            "bin_end": 5.8,
            "count": 0
           },
           {
            "bin_start": 5.8,
            "bin_end": 6.3999999999999995,
            "count": 0
           },
           {
            "bin_start": 6.3999999999999995,
            "bin_end": 7,
            "count": 1
           }
          ]
         }
        },
        {
         "name": "EnvironmentSatisfaction",
         "dtype": "int64",
         "stats": {
          "unique_count": 4,
          "nan_count": 0,
          "min": "1",
          "max": "4",
          "histogram": [
           {
            "bin_start": 1,
            "bin_end": 1.3,
            "count": 1
           },
           {
            "bin_start": 1.3,
            "bin_end": 1.6,
            "count": 0
           },
           {
            "bin_start": 1.6,
            "bin_end": 1.9,
            "count": 0
           },
           {
            "bin_start": 1.9,
            "bin_end": 2.2,
            "count": 1
           },
           {
            "bin_start": 2.2,
            "bin_end": 2.5,
            "count": 0
           },
           {
            "bin_start": 2.5,
            "bin_end": 2.8,
            "count": 0
           },
           {
            "bin_start": 2.8,
            "bin_end": 3.1,
            "count": 1
           },
           {
            "bin_start": 3.1,
            "bin_end": 3.4,
            "count": 0
           },
           {
            "bin_start": 3.4,
            "bin_end": 3.6999999999999997,
            "count": 0
           },
           {
            "bin_start": 3.6999999999999997,
            "bin_end": 4,
            "count": 2
           }
          ]
         }
        },
        {
         "name": "Gender",
         "dtype": "object",
         "stats": {
          "unique_count": 2,
          "nan_count": 0,
          "categories": [
           {
            "name": "Male",
            "count": 3
           },
           {
            "name": "Female",
            "count": 2
           }
          ]
         }
        },
        {
         "name": "HourlyRate",
         "dtype": "int64",
         "stats": {
          "unique_count": 5,
          "nan_count": 0,
          "min": "40",
          "max": "94",
          "histogram": [
           {
            "bin_start": 40,
            "bin_end": 45.4,
            "count": 1
           },
           {
            "bin_start": 45.4,
            "bin_end": 50.8,
            "count": 0
           },
           {
            "bin_start": 50.8,
            "bin_end": 56.2,
            "count": 1
           },
           {
            "bin_start": 56.2,
            "bin_end": 61.6,
            "count": 1
           },
           {
            "bin_start": 61.6,
            "bin_end": 67,
            "count": 0
           },
           {
            "bin_start": 67,
            "bin_end": 72.4,
            "count": 0
           },
           {
            "bin_start": 72.4,
            "bin_end": 77.80000000000001,
            "count": 0
           },
           {
            "bin_start": 77.80000000000001,
            "bin_end": 83.2,
            "count": 0
           },
           {
            "bin_start": 83.2,
            "bin_end": 88.6,
            "count": 0
           },
           {
            "bin_start": 88.6,
            "bin_end": 94,
            "count": 2
           }
          ]
         }
        },
        {
         "name": "JobInvolvement",
         "dtype": "int64",
         "stats": {
          "unique_count": 2,
          "nan_count": 0,
          "min": "2",
          "max": "3",
          "histogram": [
           {
            "bin_start": 2,
            "bin_end": 2.1,
            "count": 2
           },
           {
            "bin_start": 2.1,
            "bin_end": 2.2,
            "count": 0
           },
           {
            "bin_start": 2.2,
            "bin_end": 2.3,
            "count": 0
           },
           {
            "bin_start": 2.3,
            "bin_end": 2.4,
            "count": 0
           },
           {
            "bin_start": 2.4,
            "bin_end": 2.5,
            "count": 0
           },
           {
            "bin_start": 2.5,
            "bin_end": 2.6,
            "count": 0
           },
           {
            "bin_start": 2.6,
            "bin_end": 2.7,
            "count": 0
           },
           {
            "bin_start": 2.7,
            "bin_end": 2.8,
            "count": 0
           },
           {
            "bin_start": 2.8,
            "bin_end": 2.9,
            "count": 0
           },
           {
            "bin_start": 2.9,
            "bin_end": 3,
            "count": 3
           }
          ]
         }
        },
        {
         "name": "JobLevel",
         "dtype": "int64",
         "stats": {
          "unique_count": 2,
          "nan_count": 0,
          "min": "1",
          "max": "2",
          "histogram": [
           {
            "bin_start": 1,
            "bin_end": 1.1,
            "count": 3
           },
           {
            "bin_start": 1.1,
            "bin_end": 1.2,
            "count": 0
           },
           {
            "bin_start": 1.2,
            "bin_end": 1.3,
            "count": 0
           },
           {
            "bin_start": 1.3,
            "bin_end": 1.4,
            "count": 0
           },
           {
            "bin_start": 1.4,
            "bin_end": 1.5,
            "count": 0
           },
           {
            "bin_start": 1.5,
            "bin_end": 1.6,
            "count": 0
           },
           {
            "bin_start": 1.6,
            "bin_end": 1.7000000000000002,
            "count": 0
           },
           {
            "bin_start": 1.7000000000000002,
            "bin_end": 1.8,
            "count": 0
           },
           {
            "bin_start": 1.8,
            "bin_end": 1.9,
            "count": 0
           },
           {
            "bin_start": 1.9,
            "bin_end": 2,
            "count": 2
           }
          ]
         }
        },
        {
         "name": "JobRole",
         "dtype": "object",
         "stats": {
          "unique_count": 3,
          "nan_count": 0,
          "categories": [
           {
            "name": "Research Scientist",
            "count": 2
           },
           {
            "name": "Laboratory Technician",
            "count": 2
           },
           {
            "name": "Sales Executive",
            "count": 1
           }
          ]
         }
        },
        {
         "name": "JobSatisfaction",
         "dtype": "int64",
         "stats": {
          "unique_count": 3,
          "nan_count": 0,
          "min": "2",
          "max": "4",
          "histogram": [
           {
            "bin_start": 2,
            "bin_end": 2.2,
            "count": 2
           },
           {
            "bin_start": 2.2,
            "bin_end": 2.4,
            "count": 0
           },
           {
            "bin_start": 2.4,
            "bin_end": 2.6,
            "count": 0
           },
           {
            "bin_start": 2.6,
            "bin_end": 2.8,
            "count": 0
           },
           {
            "bin_start": 2.8,
            "bin_end": 3,
            "count": 0
           },
           {
            "bin_start": 3,
            "bin_end": 3.2,
            "count": 2
           },
           {
            "bin_start": 3.2,
            "bin_end": 3.4000000000000004,
            "count": 0
           },
           {
            "bin_start": 3.4000000000000004,
            "bin_end": 3.6,
            "count": 0
           },
           {
            "bin_start": 3.6,
            "bin_end": 3.8,
            "count": 0
           },
           {
            "bin_start": 3.8,
            "bin_end": 4,
            "count": 1
           }
          ]
         }
        },
        {
         "name": "MaritalStatus",
         "dtype": "object",
         "stats": {
          "unique_count": 2,
          "nan_count": 0,
          "categories": [
           {
            "name": "Married",
            "count": 3
           },
           {
            "name": "Single",
            "count": 2
           }
          ]
         }
        },
        {
         "name": "MonthlyIncome",
         "dtype": "int64",
         "stats": {
          "unique_count": 5,
          "nan_count": 0,
          "min": "2090",
          "max": "5993",
          "histogram": [
           {
            "bin_start": 2090,
            "bin_end": 2480.3,
            "count": 1
           },
           {
            "bin_start": 2480.3,
            "bin_end": 2870.6,
            "count": 0
           },
           {
            "bin_start": 2870.6,
            "bin_end": 3260.9,
            "count": 1
           },
           {
            "bin_start": 3260.9,
            "bin_end": 3651.2,
            "count": 1
           },
           {
            "bin_start": 3651.2,
            "bin_end": 4041.5,
            "count": 0
           },
           {
            "bin_start": 4041.5,
            "bin_end": 4431.8,
            "count": 0
           },
           {
            "bin_start": 4431.8,
            "bin_end": 4822.1,
            "count": 0
           },
           {
            "bin_start": 4822.1,
            "bin_end": 5212.4,
            "count": 1
           },
           {
            "bin_start": 5212.4,
            "bin_end": 5602.700000000001,
            "count": 0
           },
           {
            "bin_start": 5602.700000000001,
            "bin_end": 5993,
            "count": 1
           }
          ]
         }
        },
        {
         "name": "MonthlyRate",
         "dtype": "int64",
         "stats": {
          "unique_count": 5,
          "nan_count": 0,
          "min": "2396",
          "max": "24907",
          "histogram": [
           {
            "bin_start": 2396,
            "bin_end": 4647.1,
            "count": 1
           },
           {
            "bin_start": 4647.1,
            "bin_end": 6898.2,
            "count": 0
           },
           {
            "bin_start": 6898.2,
            "bin_end": 9149.3,
            "count": 0
           },
           {
            "bin_start": 9149.3,
            "bin_end": 11400.4,
            "count": 0
           },
           {
            "bin_start": 11400.4,
            "bin_end": 13651.5,
            "count": 0
           },
           {
            "bin_start": 13651.5,
            "bin_end": 15902.599999999999,
            "count": 0
           },
           {
            "bin_start": 15902.599999999999,
            "bin_end": 18153.699999999997,
            "count": 1
           },
           {
            "bin_start": 18153.699999999997,
            "bin_end": 20404.8,
            "count": 1
           },
           {
            "bin_start": 20404.8,
            "bin_end": 22655.899999999998,
            "count": 0
           },
           {
            "bin_start": 22655.899999999998,
            "bin_end": 24907,
            "count": 2
           }
          ]
         }
        },
        {
         "name": "NumCompaniesWorked",
         "dtype": "int64",
         "stats": {
          "unique_count": 4,
          "nan_count": 0,
          "min": "1",
          "max": "9",
          "histogram": [
           {
            "bin_start": 1,
            "bin_end": 1.8,
            "count": 2
           },
           {
            "bin_start": 1.8,
            "bin_end": 2.6,
            "count": 0
           },
           {
            "bin_start": 2.6,
            "bin_end": 3.4000000000000004,
            "count": 0
           },
           {
            "bin_start": 3.4000000000000004,
            "bin_end": 4.2,
            "count": 0
           },
           {
            "bin_start": 4.2,
            "bin_end": 5,
            "count": 0
           },
           {
            "bin_start": 5,
            "bin_end": 5.800000000000001,
            "count": 0
           },
           {
            "bin_start": 5.800000000000001,
            "bin_end": 6.6000000000000005,
            "count": 1
           },
           {
            "bin_start": 6.6000000000000005,
            "bin_end": 7.4,
            "count": 0
           },
           {
            "bin_start": 7.4,
            "bin_end": 8.2,
            "count": 1
           },
           {
            "bin_start": 8.2,
            "bin_end": 9,
            "count": 1
           }
          ]
         }
        },
        {
         "name": "Over18",
         "dtype": "object",
         "stats": {
          "unique_count": 1,
          "nan_count": 0,
          "categories": [
           {
            "name": "Y",
            "count": 5
           }
          ]
         }
        },
        {
         "name": "OverTime",
         "dtype": "object",
         "stats": {
          "unique_count": 2,
          "nan_count": 0,
          "categories": [
           {
            "name": "Yes",
            "count": 3
           },
           {
            "name": "No",
            "count": 2
           }
          ]
         }
        },
        {
         "name": "PercentSalaryHike",
         "dtype": "int64",
         "stats": {
          "unique_count": 4,
          "nan_count": 0,
          "min": "11",
          "max": "23",
          "histogram": [
           {
            "bin_start": 11,
            "bin_end": 12.2,
            "count": 3
           },
           {
            "bin_start": 12.2,
            "bin_end": 13.4,
            "count": 0
           },
           {
            "bin_start": 13.4,
            "bin_end": 14.6,
            "count": 0
           },
           {
            "bin_start": 14.6,
            "bin_end": 15.8,
            "count": 1
           },
           {
            "bin_start": 15.8,
            "bin_end": 17,
            "count": 0
           },
           {
            "bin_start": 17,
            "bin_end": 18.2,
            "count": 0
           },
           {
            "bin_start": 18.2,
            "bin_end": 19.4,
            "count": 0
           },
           {
            "bin_start": 19.4,
            "bin_end": 20.6,
            "count": 0
           },
           {
            "bin_start": 20.6,
            "bin_end": 21.799999999999997,
            "count": 0
           },
           {
            "bin_start": 21.799999999999997,
            "bin_end": 23,
            "count": 1
           }
          ]
         }
        },
        {
         "name": "PerformanceRating",
         "dtype": "int64",
         "stats": {
          "unique_count": 2,
          "nan_count": 0,
          "min": "3",
          "max": "4",
          "histogram": [
           {
            "bin_start": 3,
            "bin_end": 3.1,
            "count": 4
           },
           {
            "bin_start": 3.1,
            "bin_end": 3.2,
            "count": 0
           },
           {
            "bin_start": 3.2,
            "bin_end": 3.3,
            "count": 0
           },
           {
            "bin_start": 3.3,
            "bin_end": 3.4,
            "count": 0
           },
           {
            "bin_start": 3.4,
            "bin_end": 3.5,
            "count": 0
           },
           {
            "bin_start": 3.5,
            "bin_end": 3.6,
            "count": 0
           },
           {
            "bin_start": 3.6,
            "bin_end": 3.7,
            "count": 0
           },
           {
            "bin_start": 3.7,
            "bin_end": 3.8,
            "count": 0
           },
           {
            "bin_start": 3.8,
            "bin_end": 3.9,
            "count": 0
           },
           {
            "bin_start": 3.9,
            "bin_end": 4,
            "count": 1
           }
          ]
         }
        },
        {
         "name": "RelationshipSatisfaction",
         "dtype": "int64",
         "stats": {
          "unique_count": 4,
          "nan_count": 0,
          "min": "1",
          "max": "4",
          "histogram": [
           {
            "bin_start": 1,
            "bin_end": 1.3,
            "count": 1
           },
           {
            "bin_start": 1.3,
            "bin_end": 1.6,
            "count": 0
           },
           {
            "bin_start": 1.6,
            "bin_end": 1.9,
            "count": 0
           },
           {
            "bin_start": 1.9,
            "bin_end": 2.2,
            "count": 1
           },
           {
            "bin_start": 2.2,
            "bin_end": 2.5,
            "count": 0
           },
           {
            "bin_start": 2.5,
            "bin_end": 2.8,
            "count": 0
           },
           {
            "bin_start": 2.8,
            "bin_end": 3.1,
            "count": 1
           },
           {
            "bin_start": 3.1,
            "bin_end": 3.4,
            "count": 0
           },
           {
            "bin_start": 3.4,
            "bin_end": 3.6999999999999997,
            "count": 0
           },
           {
            "bin_start": 3.6999999999999997,
            "bin_end": 4,
            "count": 2
           }
          ]
         }
        },
        {
         "name": "StandardHours",
         "dtype": "int64",
         "stats": {
          "unique_count": 1,
          "nan_count": 0,
          "min": "80",
          "max": "80",
          "histogram": [
           {
            "bin_start": 79.5,
            "bin_end": 79.6,
            "count": 0
           },
           {
            "bin_start": 79.6,
            "bin_end": 79.7,
            "count": 0
           },
           {
            "bin_start": 79.7,
            "bin_end": 79.8,
            "count": 0
           },
           {
            "bin_start": 79.8,
            "bin_end": 79.9,
            "count": 0
           },
           {
            "bin_start": 79.9,
            "bin_end": 80,
            "count": 0
           },
           {
            "bin_start": 80,
            "bin_end": 80.1,
            "count": 5
           },
           {
            "bin_start": 80.1,
            "bin_end": 80.2,
            "count": 0
           },
           {
            "bin_start": 80.2,
            "bin_end": 80.3,
            "count": 0
           },
           {
            "bin_start": 80.3,
            "bin_end": 80.4,
            "count": 0
           },
           {
            "bin_start": 80.4,
            "bin_end": 80.5,
            "count": 0
           }
          ]
         }
        },
        {
         "name": "StockOptionLevel",
         "dtype": "int64",
         "stats": {
          "unique_count": 2,
          "nan_count": 0,
          "min": "0",
          "max": "1",
          "histogram": [
           {
            "bin_start": 0,
            "bin_end": 0.1,
            "count": 3
           },
           {
            "bin_start": 0.1,
            "bin_end": 0.2,
            "count": 0
           },
           {
            "bin_start": 0.2,
            "bin_end": 0.30000000000000004,
            "count": 0
           },
           {
            "bin_start": 0.30000000000000004,
            "bin_end": 0.4,
            "count": 0
           },
           {
            "bin_start": 0.4,
            "bin_end": 0.5,
            "count": 0
           },
           {
            "bin_start": 0.5,
            "bin_end": 0.6000000000000001,
            "count": 0
           },
           {
            "bin_start": 0.6000000000000001,
            "bin_end": 0.7000000000000001,
            "count": 0
           },
           {
            "bin_start": 0.7000000000000001,
            "bin_end": 0.8,
            "count": 0
           },
           {
            "bin_start": 0.8,
            "bin_end": 0.9,
            "count": 0
           },
           {
            "bin_start": 0.9,
            "bin_end": 1,
            "count": 2
           }
          ]
         }
        },
        {
         "name": "TotalWorkingYears",
         "dtype": "int64",
         "stats": {
          "unique_count": 4,
          "nan_count": 0,
          "min": "6",
          "max": "10",
          "histogram": [
           {
            "bin_start": 6,
            "bin_end": 6.4,
            "count": 1
           },
           {
            "bin_start": 6.4,
            "bin_end": 6.8,
            "count": 0
           },
           {
            "bin_start": 6.8,
            "bin_end": 7.2,
            "count": 1
           },
           {
            "bin_start": 7.2,
            "bin_end": 7.6,
            "count": 0
           },
           {
            "bin_start": 7.6,
            "bin_end": 8,
            "count": 0
           },
           {
            "bin_start": 8,
            "bin_end": 8.4,
            "count": 2
           },
           {
            "bin_start": 8.4,
            "bin_end": 8.8,
            "count": 0
           },
           {
            "bin_start": 8.8,
            "bin_end": 9.2,
            "count": 0
           },
           {
            "bin_start": 9.2,
            "bin_end": 9.6,
            "count": 0
           },
           {
            "bin_start": 9.6,
            "bin_end": 10,
            "count": 1
           }
          ]
         }
        },
        {
         "name": "TrainingTimesLastYear",
         "dtype": "int64",
         "stats": {
          "unique_count": 2,
          "nan_count": 0,
          "min": "0",
          "max": "3",
          "histogram": [
           {
            "bin_start": 0,
            "bin_end": 0.3,
            "count": 1
           },
           {
            "bin_start": 0.3,
            "bin_end": 0.6,
            "count": 0
           },
           {
            "bin_start": 0.6,
            "bin_end": 0.8999999999999999,
            "count": 0
           },
           {
            "bin_start": 0.8999999999999999,
            "bin_end": 1.2,
            "count": 0
           },
           {
            "bin_start": 1.2,
            "bin_end": 1.5,
            "count": 0
           },
           {
            "bin_start": 1.5,
            "bin_end": 1.7999999999999998,
            "count": 0
           },
           {
            "bin_start": 1.7999999999999998,
            "bin_end": 2.1,
            "count": 0
           },
           {
            "bin_start": 2.1,
            "bin_end": 2.4,
            "count": 0
           },
           {
            "bin_start": 2.4,
            "bin_end": 2.6999999999999997,
            "count": 0
           },
           {
            "bin_start": 2.6999999999999997,
            "bin_end": 3,
            "count": 4
           }
          ]
         }
        },
        {
         "name": "WorkLifeBalance",
         "dtype": "int64",
         "stats": {
          "unique_count": 2,
          "nan_count": 0,
          "min": "1",
          "max": "3",
          "histogram": [
           {
            "bin_start": 1,
            "bin_end": 1.2,
            "count": 1
           },
           {
            "bin_start": 1.2,
            "bin_end": 1.4,
            "count": 0
           },
           {
            "bin_start": 1.4,
            "bin_end": 1.6,
            "count": 0
           },
           {
            "bin_start": 1.6,
            "bin_end": 1.8,
            "count": 0
           },
           {
            "bin_start": 1.8,
            "bin_end": 2,
            "count": 0
           },
           {
            "bin_start": 2,
            "bin_end": 2.2,
            "count": 0
           },
           {
            "bin_start": 2.2,
            "bin_end": 2.4000000000000004,
            "count": 0
           },
           {
            "bin_start": 2.4000000000000004,
            "bin_end": 2.6,
            "count": 0
           },
           {
            "bin_start": 2.6,
            "bin_end": 2.8,
            "count": 0
           },
           {
            "bin_start": 2.8,
            "bin_end": 3,
            "count": 4
           }
          ]
         }
        },
        {
         "name": "YearsAtCompany",
         "dtype": "int64",
         "stats": {
          "unique_count": 5,
          "nan_count": 0,
          "min": "0",
          "max": "10",
          "histogram": [
           {
            "bin_start": 0,
            "bin_end": 1,
            "count": 1
           },
           {
            "bin_start": 1,
            "bin_end": 2,
            "count": 0
           },
           {
            "bin_start": 2,
            "bin_end": 3,
            "count": 1
           },
           {
            "bin_start": 3,
            "bin_end": 4,
            "count": 0
           },
           {
            "bin_start": 4,
            "bin_end": 5,
            "count": 0
           },
           {
            "bin_start": 5,
            "bin_end": 6,
            "count": 0
           },
           {
            "bin_start": 6,
            "bin_end": 7,
            "count": 1
           },
           {
            "bin_start": 7,
            "bin_end": 8,
            "count": 0
           },
           {
            "bin_start": 8,
            "bin_end": 9,
            "count": 1
           },
           {
            "bin_start": 9,
            "bin_end": 10,
            "count": 1
           }
          ]
         }
        },
        {
         "name": "YearsInCurrentRole",
         "dtype": "int64",
         "stats": {
          "unique_count": 4,
          "nan_count": 0,
          "min": "0",
          "max": "7",
          "histogram": [
           {
            "bin_start": 0,
            "bin_end": 0.7,
            "count": 1
           },
           {
            "bin_start": 0.7,
            "bin_end": 1.4,
            "count": 0
           },
           {
            "bin_start": 1.4,
            "bin_end": 2.0999999999999996,
            "count": 1
           },
           {
            "bin_start": 2.0999999999999996,
            "bin_end": 2.8,
            "count": 0
           },
           {
            "bin_start": 2.8,
            "bin_end": 3.5,
            "count": 0
           },
           {
            "bin_start": 3.5,
            "bin_end": 4.199999999999999,
            "count": 1
           },
           {
            "bin_start": 4.199999999999999,
            "bin_end": 4.8999999999999995,
            "count": 0
           },
           {
            "bin_start": 4.8999999999999995,
            "bin_end": 5.6,
            "count": 0
           },
           {
            "bin_start": 5.6,
            "bin_end": 6.3,
            "count": 0
           },
           {
            "bin_start": 6.3,
            "bin_end": 7,
            "count": 2
           }
          ]
         }
        },
        {
         "name": "YearsSinceLastPromotion",
         "dtype": "int64",
         "stats": {
          "unique_count": 4,
          "nan_count": 0,
          "min": "0",
          "max": "3",
          "histogram": [
           {
            "bin_start": 0,
            "bin_end": 0.3,
            "count": 2
           },
           {
            "bin_start": 0.3,
            "bin_end": 0.6,
            "count": 0
           },
           {
            "bin_start": 0.6,
            "bin_end": 0.8999999999999999,
            "count": 0
           },
           {
            "bin_start": 0.8999999999999999,
            "bin_end": 1.2,
            "count": 1
           },
           {
            "bin_start": 1.2,
            "bin_end": 1.5,
            "count": 0
           },
           {
            "bin_start": 1.5,
            "bin_end": 1.7999999999999998,
            "count": 0
           },
           {
            "bin_start": 1.7999999999999998,
            "bin_end": 2.1,
            "count": 1
           },
           {
            "bin_start": 2.1,
            "bin_end": 2.4,
            "count": 0
           },
           {
            "bin_start": 2.4,
            "bin_end": 2.6999999999999997,
            "count": 0
           },
           {
            "bin_start": 2.6999999999999997,
            "bin_end": 3,
            "count": 1
           }
          ]
         }
        },
        {
         "name": "YearsWithCurrManager",
         "dtype": "int64",
         "stats": {
          "unique_count": 4,
          "nan_count": 0,
          "min": "0",
          "max": "7",
          "histogram": [
           {
            "bin_start": 0,
            "bin_end": 0.7,
            "count": 2
           },
           {
            "bin_start": 0.7,
            "bin_end": 1.4,
            "count": 0
           },
           {
            "bin_start": 1.4,
            "bin_end": 2.0999999999999996,
            "count": 1
           },
           {
            "bin_start": 2.0999999999999996,
            "bin_end": 2.8,
            "count": 0
           },
           {
            "bin_start": 2.8,
            "bin_end": 3.5,
            "count": 0
           },
           {
            "bin_start": 3.5,
            "bin_end": 4.199999999999999,
            "count": 0
           },
           {
            "bin_start": 4.199999999999999,
            "bin_end": 4.8999999999999995,
            "count": 0
           },
           {
            "bin_start": 4.8999999999999995,
            "bin_end": 5.6,
            "count": 1
           },
           {
            "bin_start": 5.6,
            "bin_end": 6.3,
            "count": 0
           },
           {
            "bin_start": 6.3,
            "bin_end": 7,
            "count": 1
           }
          ]
         }
        },
        {
         "name": "_deepnote_index_column",
         "dtype": "int64"
        }
       ],
       "rows": [
        {
         "Age": 41,
         "Attrition": "Yes",
         "BusinessTravel": "Travel_Rarely",
         "DailyRate": 1102,
         "Department": "Sales",
         "DistanceFromHome": 1,
         "Education": 2,
         "EducationField": "Life Sciences",
         "EmployeeCount": 1,
         "EmployeeNumber": 1,
         "EnvironmentSatisfaction": 2,
         "Gender": "Female",
         "HourlyRate": 94,
         "JobInvolvement": 3,
         "JobLevel": 2,
         "JobRole": "Sales Executive",
         "JobSatisfaction": 4,
         "MaritalStatus": "Single",
         "MonthlyIncome": 5993,
         "MonthlyRate": 19479,
         "NumCompaniesWorked": 8,
         "Over18": "Y",
         "OverTime": "Yes",
         "PercentSalaryHike": 11,
         "PerformanceRating": 3,
         "RelationshipSatisfaction": 1,
         "StandardHours": 80,
         "StockOptionLevel": 0,
         "TotalWorkingYears": 8,
         "TrainingTimesLastYear": 0,
         "WorkLifeBalance": 1,
         "YearsAtCompany": 6,
         "YearsInCurrentRole": 4,
         "YearsSinceLastPromotion": 0,
         "YearsWithCurrManager": 5,
         "_deepnote_index_column": 0
        },
        {
         "Age": 49,
         "Attrition": "No",
         "BusinessTravel": "Travel_Frequently",
         "DailyRate": 279,
         "Department": "Research & Development",
         "DistanceFromHome": 8,
         "Education": 1,
         "EducationField": "Life Sciences",
         "EmployeeCount": 1,
         "EmployeeNumber": 2,
         "EnvironmentSatisfaction": 3,
         "Gender": "Male",
         "HourlyRate": 61,
         "JobInvolvement": 2,
         "JobLevel": 2,
         "JobRole": "Research Scientist",
         "JobSatisfaction": 2,
         "MaritalStatus": "Married",
         "MonthlyIncome": 5130,
         "MonthlyRate": 24907,
         "NumCompaniesWorked": 1,
         "Over18": "Y",
         "OverTime": "No",
         "PercentSalaryHike": 23,
         "PerformanceRating": 4,
         "RelationshipSatisfaction": 4,
         "StandardHours": 80,
         "StockOptionLevel": 1,
         "TotalWorkingYears": 10,
         "TrainingTimesLastYear": 3,
         "WorkLifeBalance": 3,
         "YearsAtCompany": 10,
         "YearsInCurrentRole": 7,
         "YearsSinceLastPromotion": 1,
         "YearsWithCurrManager": 7,
         "_deepnote_index_column": 1
        },
        {
         "Age": 37,
         "Attrition": "Yes",
         "BusinessTravel": "Travel_Rarely",
         "DailyRate": 1373,
         "Department": "Research & Development",
         "DistanceFromHome": 2,
         "Education": 2,
         "EducationField": "Other",
         "EmployeeCount": 1,
         "EmployeeNumber": 4,
         "EnvironmentSatisfaction": 4,
         "Gender": "Male",
         "HourlyRate": 92,
         "JobInvolvement": 2,
         "JobLevel": 1,
         "JobRole": "Laboratory Technician",
         "JobSatisfaction": 3,
         "MaritalStatus": "Single",
         "MonthlyIncome": 2090,
         "MonthlyRate": 2396,
         "NumCompaniesWorked": 6,
         "Over18": "Y",
         "OverTime": "Yes",
         "PercentSalaryHike": 15,
         "PerformanceRating": 3,
         "RelationshipSatisfaction": 2,
         "StandardHours": 80,
         "StockOptionLevel": 0,
         "TotalWorkingYears": 7,
         "TrainingTimesLastYear": 3,
         "WorkLifeBalance": 3,
         "YearsAtCompany": 0,
         "YearsInCurrentRole": 0,
         "YearsSinceLastPromotion": 0,
         "YearsWithCurrManager": 0,
         "_deepnote_index_column": 2
        },
        {
         "Age": 33,
         "Attrition": "No",
         "BusinessTravel": "Travel_Frequently",
         "DailyRate": 1392,
         "Department": "Research & Development",
         "DistanceFromHome": 3,
         "Education": 4,
         "EducationField": "Life Sciences",
         "EmployeeCount": 1,
         "EmployeeNumber": 5,
         "EnvironmentSatisfaction": 4,
         "Gender": "Female",
         "HourlyRate": 56,
         "JobInvolvement": 3,
         "JobLevel": 1,
         "JobRole": "Research Scientist",
         "JobSatisfaction": 3,
         "MaritalStatus": "Married",
         "MonthlyIncome": 2909,
         "MonthlyRate": 23159,
         "NumCompaniesWorked": 1,
         "Over18": "Y",
         "OverTime": "Yes",
         "PercentSalaryHike": 11,
         "PerformanceRating": 3,
         "RelationshipSatisfaction": 3,
         "StandardHours": 80,
         "StockOptionLevel": 0,
         "TotalWorkingYears": 8,
         "TrainingTimesLastYear": 3,
         "WorkLifeBalance": 3,
         "YearsAtCompany": 8,
         "YearsInCurrentRole": 7,
         "YearsSinceLastPromotion": 3,
         "YearsWithCurrManager": 0,
         "_deepnote_index_column": 3
        },
        {
         "Age": 27,
         "Attrition": "No",
         "BusinessTravel": "Travel_Rarely",
         "DailyRate": 591,
         "Department": "Research & Development",
         "DistanceFromHome": 2,
         "Education": 1,
         "EducationField": "Medical",
         "EmployeeCount": 1,
         "EmployeeNumber": 7,
         "EnvironmentSatisfaction": 1,
         "Gender": "Male",
         "HourlyRate": 40,
         "JobInvolvement": 3,
         "JobLevel": 1,
         "JobRole": "Laboratory Technician",
         "JobSatisfaction": 2,
         "MaritalStatus": "Married",
         "MonthlyIncome": 3468,
         "MonthlyRate": 16632,
         "NumCompaniesWorked": 9,
         "Over18": "Y",
         "OverTime": "No",
         "PercentSalaryHike": 12,
         "PerformanceRating": 3,
         "RelationshipSatisfaction": 4,
         "StandardHours": 80,
         "StockOptionLevel": 1,
         "TotalWorkingYears": 6,
         "TrainingTimesLastYear": 3,
         "WorkLifeBalance": 3,
         "YearsAtCompany": 2,
         "YearsInCurrentRole": 2,
         "YearsSinceLastPromotion": 2,
         "YearsWithCurrManager": 2,
         "_deepnote_index_column": 4
        }
       ]
      },
      "text/plain": "   Age Attrition     BusinessTravel  DailyRate              Department  \\\n0   41       Yes      Travel_Rarely       1102                   Sales   \n1   49        No  Travel_Frequently        279  Research & Development   \n2   37       Yes      Travel_Rarely       1373  Research & Development   \n3   33        No  Travel_Frequently       1392  Research & Development   \n4   27        No      Travel_Rarely        591  Research & Development   \n\n   DistanceFromHome  Education EducationField  EmployeeCount  EmployeeNumber  \\\n0                 1          2  Life Sciences              1               1   \n1                 8          1  Life Sciences              1               2   \n2                 2          2          Other              1               4   \n3                 3          4  Life Sciences              1               5   \n4                 2          1        Medical              1               7   \n\n   ...  RelationshipSatisfaction StandardHours  StockOptionLevel  \\\n0  ...                         1            80                 0   \n1  ...                         4            80                 1   \n2  ...                         2            80                 0   \n3  ...                         3            80                 0   \n4  ...                         4            80                 1   \n\n   TotalWorkingYears  TrainingTimesLastYear WorkLifeBalance  YearsAtCompany  \\\n0                  8                      0               1               6   \n1                 10                      3               3              10   \n2                  7                      3               3               0   \n3                  8                      3               3               8   \n4                  6                      3               3               2   \n\n  YearsInCurrentRole  YearsSinceLastPromotion  YearsWithCurrManager  \n0                  4                        0                     5  \n1                  7                        1                     7  \n2                  0                        0                     0  \n3                  7                        3                     0  \n4                  2                        2                     2  \n\n[5 rows x 35 columns]",
      "text/html": "<div>\n<style scoped>\n    .dataframe tbody tr th:only-of-type {\n        vertical-align: middle;\n    }\n\n    .dataframe tbody tr th {\n        vertical-align: top;\n    }\n\n    .dataframe thead th {\n        text-align: right;\n    }\n</style>\n<table border=\"1\" class=\"dataframe\">\n  <thead>\n    <tr style=\"text-align: right;\">\n      <th></th>\n      <th>Age</th>\n      <th>Attrition</th>\n      <th>BusinessTravel</th>\n      <th>DailyRate</th>\n      <th>Department</th>\n      <th>DistanceFromHome</th>\n      <th>Education</th>\n      <th>EducationField</th>\n      <th>EmployeeCount</th>\n      <th>EmployeeNumber</th>\n      <th>...</th>\n      <th>RelationshipSatisfaction</th>\n      <th>StandardHours</th>\n      <th>StockOptionLevel</th>\n      <th>TotalWorkingYears</th>\n      <th>TrainingTimesLastYear</th>\n      <th>WorkLifeBalance</th>\n      <th>YearsAtCompany</th>\n      <th>YearsInCurrentRole</th>\n      <th>YearsSinceLastPromotion</th>\n      <th>YearsWithCurrManager</th>\n    </tr>\n  </thead>\n  <tbody>\n    <tr>\n      <th>0</th>\n      <td>41</td>\n      <td>Yes</td>\n      <td>Travel_Rarely</td>\n      <td>1102</td>\n      <td>Sales</td>\n      <td>1</td>\n      <td>2</td>\n      <td>Life Sciences</td>\n      <td>1</td>\n      <td>1</td>\n      <td>...</td>\n      <td>1</td>\n      <td>80</td>\n      <td>0</td>\n      <td>8</td>\n      <td>0</td>\n      <td>1</td>\n      <td>6</td>\n      <td>4</td>\n      <td>0</td>\n      <td>5</td>\n    </tr>\n    <tr>\n      <th>1</th>\n      <td>49</td>\n      <td>No</td>\n      <td>Travel_Frequently</td>\n      <td>279</td>\n      <td>Research &amp; Development</td>\n      <td>8</td>\n      <td>1</td>\n      <td>Life Sciences</td>\n      <td>1</td>\n      <td>2</td>\n      <td>...</td>\n      <td>4</td>\n      <td>80</td>\n      <td>1</td>\n      <td>10</td>\n      <td>3</td>\n      <td>3</td>\n      <td>10</td>\n      <td>7</td>\n      <td>1</td>\n      <td>7</td>\n    </tr>\n    <tr>\n      <th>2</th>\n      <td>37</td>\n      <td>Yes</td>\n      <td>Travel_Rarely</td>\n      <td>1373</td>\n      <td>Research &amp; Development</td>\n      <td>2</td>\n      <td>2</td>\n      <td>Other</td>\n      <td>1</td>\n      <td>4</td>\n      <td>...</td>\n      <td>2</td>\n      <td>80</td>\n      <td>0</td>\n      <td>7</td>\n      <td>3</td>\n      <td>3</td>\n      <td>0</td>\n      <td>0</td>\n      <td>0</td>\n      <td>0</td>\n    </tr>\n    <tr>\n      <th>3</th>\n      <td>33</td>\n      <td>No</td>\n      <td>Travel_Frequently</td>\n      <td>1392</td>\n      <td>Research &amp; Development</td>\n      <td>3</td>\n      <td>4</td>\n      <td>Life Sciences</td>\n      <td>1</td>\n      <td>5</td>\n      <td>...</td>\n      <td>3</td>\n      <td>80</td>\n      <td>0</td>\n      <td>8</td>\n      <td>3</td>\n      <td>3</td>\n      <td>8</td>\n      <td>7</td>\n      <td>3</td>\n      <td>0</td>\n    </tr>\n    <tr>\n      <th>4</th>\n      <td>27</td>\n      <td>No</td>\n      <td>Travel_Rarely</td>\n      <td>591</td>\n      <td>Research &amp; Development</td>\n      <td>2</td>\n      <td>1</td>\n      <td>Medical</td>\n      <td>1</td>\n      <td>7</td>\n      <td>...</td>\n      <td>4</td>\n      <td>80</td>\n      <td>1</td>\n      <td>6</td>\n      <td>3</td>\n      <td>3</td>\n      <td>2</td>\n      <td>2</td>\n      <td>2</td>\n      <td>2</td>\n    </tr>\n  </tbody>\n</table>\n<p>5 rows × 35 columns</p>\n</div>"
     },
     "metadata": {}
    }
   ]
  },
  {
   "cell_type": "markdown",
   "source": "## 5.4. Análisis Exploratorio de datos",
   "metadata": {
    "tags": [],
    "cell_id": "00009-37234730-7136-4a54-b811-eb9be5dbfad1",
    "deepnote_cell_type": "markdown",
    "deepnote_cell_height": 70
   }
  },
  {
   "cell_type": "code",
   "source": "for column in df_HR.columns:\n    sns.histplot(x= column,data = df_HR)\n    plt.show()",
   "metadata": {
    "cell_id": "18b324d9-46be-4767-b67a-e90b6a675833",
    "tags": [],
    "deepnote_cell_type": "code",
    "deepnote_cell_height": 102
   },
   "outputs": [],
   "execution_count": null
  },
  {
   "cell_type": "markdown",
   "source": "## 5.5. Limpieza y Transformación de datos",
   "metadata": {
    "tags": [],
    "cell_id": "00011-1b8691c1-7143-48b4-9575-cd4cf416126e",
    "deepnote_cell_type": "markdown",
    "deepnote_cell_height": 70
   }
  },
  {
   "cell_type": "markdown",
   "source": "Dado que para estos modelos es importante que las categorías se encuentren balanceadas, revisamos si esto se cumple para este set de datos ",
   "metadata": {
    "cell_id": "5a65c943-b372-4489-ac74-d4e707834384",
    "tags": [],
    "deepnote_cell_type": "markdown",
    "deepnote_cell_height": 74.796875
   }
  },
  {
   "cell_type": "code",
   "metadata": {
    "cell_id": "f2dbfdff-dc93-4667-9c41-d011e598e6c3",
    "tags": [],
    "deepnote_to_be_reexecuted": false,
    "source_hash": "adc8058f",
    "execution_start": 1647107030415,
    "execution_millis": 186,
    "deepnote_cell_type": "code",
    "deepnote_cell_height": 413.1875,
    "deepnote_output_heights": [
     21.1875,
     264
    ]
   },
   "source": "sns.histplot(x= 'Attrition',data = df_HR)",
   "execution_count": null,
   "outputs": [
    {
     "output_type": "execute_result",
     "execution_count": 4,
     "data": {
      "text/plain": "<AxesSubplot:xlabel='Attrition', ylabel='Count'>"
     },
     "metadata": {}
    },
    {
     "data": {
      "text/plain": "<Figure size 432x288 with 1 Axes>",
      "image/png": "[encoded data removed]"
     },
     "metadata": {
      "needs_background": "light",
      "image/png": {
       "width": 395,
       "height": 262
      }
     },
     "output_type": "display_data"
    }
   ]
  },
  {
   "cell_type": "markdown",
   "source": "Se puede ver que los datos están desequilibrados, por lo que es necesario eliminar algunos datos al azar para obtener un conjunto de datos más equilibrado.",
   "metadata": {
    "cell_id": "763d7ee2-31fd-423c-b71e-281f75780676",
    "tags": [],
    "deepnote_cell_type": "markdown",
    "deepnote_cell_height": 74.796875
   }
  },
  {
   "cell_type": "code",
   "metadata": {
    "cell_id": "faa787a5-2f2e-4e95-80f1-3a46619c5572",
    "tags": [],
    "deepnote_to_be_reexecuted": false,
    "source_hash": "f5c2f84b",
    "execution_start": 1647107030607,
    "execution_millis": 122,
    "deepnote_cell_type": "code",
    "deepnote_cell_height": 500
   },
   "source": "df_HR_Attrition_No = df_HR[df_HR['Attrition']=='No'].sample(n=300,random_state=2)\ndf_HR_Attrition_Yes = df_HR[df_HR['Attrition']=='Yes']\ndf_HR_sample = pd.concat([df_HR_Attrition_No,df_HR_Attrition_Yes],axis=0)\ndf_HR_sample = df_HR_sample.sample(frac = 1)\ndf_HR_sample.reset_index( drop=True, inplace=True)\ndf_HR_sample.head(5)",
   "execution_count": null,
   "outputs": [
    {
     "output_type": "execute_result",
     "execution_count": 5,
     "data": {
      "application/vnd.deepnote.dataframe.v3+json": {
       "column_count": 35,
       "row_count": 5,
       "columns": [
        {
         "name": "Age",
         "dtype": "int64",
         "stats": {
          "unique_count": 5,
          "nan_count": 0,
          "min": "22",
          "max": "46",
          "histogram": [
           {
            "bin_start": 22,
            "bin_end": 24.4,
            "count": 1
           },
           {
            "bin_start": 24.4,
            "bin_end": 26.8,
            "count": 1
           },
           {
            "bin_start": 26.8,
            "bin_end": 29.2,
            "count": 0
           },
           {
            "bin_start": 29.2,
            "bin_end": 31.6,
            "count": 0
           },
           {
            "bin_start": 31.6,
            "bin_end": 34,
            "count": 1
           },
           {
            "bin_start": 34,
            "bin_end": 36.4,
            "count": 0
           },
           {
            "bin_start": 36.4,
            "bin_end": 38.8,
            "count": 1
           },
           {
            "bin_start": 38.8,
            "bin_end": 41.2,
            "count": 0
           },
           {
            "bin_start": 41.2,
            "bin_end": 43.599999999999994,
            "count": 0
           },
           {
            "bin_start": 43.599999999999994,
            "bin_end": 46,
            "count": 1
           }
          ]
         }
        },
        {
         "name": "Attrition",
         "dtype": "object",
         "stats": {
          "unique_count": 2,
          "nan_count": 0,
          "categories": [
           {
            "name": "Yes",
            "count": 3
           },
           {
            "name": "No",
            "count": 2
           }
          ]
         }
        },
        {
         "name": "BusinessTravel",
         "dtype": "object",
         "stats": {
          "unique_count": 2,
          "nan_count": 0,
          "categories": [
           {
            "name": "Travel_Rarely",
            "count": 3
           },
           {
            "name": "Travel_Frequently",
            "count": 2
           }
          ]
         }
        },
        {
         "name": "DailyRate",
         "dtype": "int64",
         "stats": {
          "unique_count": 5,
          "nan_count": 0,
          "min": "945",
          "max": "1373",
          "histogram": [
           {
            "bin_start": 945,
            "bin_end": 987.8,
            "count": 2
           },
           {
            "bin_start": 987.8,
            "bin_end": 1030.6,
            "count": 0
           },
           {
            "bin_start": 1030.6,
            "bin_end": 1073.4,
            "count": 0
           },
           {
            "bin_start": 1073.4,
            "bin_end": 1116.2,
            "count": 0
           },
           {
            "bin_start": 1116.2,
            "bin_end": 1159,
            "count": 0
           },
           {
            "bin_start": 1159,
            "bin_end": 1201.8,
            "count": 0
           },
           {
            "bin_start": 1201.8,
            "bin_end": 1244.6,
            "count": 0
           },
           {
            "bin_start": 1244.6,
            "bin_end": 1287.4,
            "count": 0
           },
           {
            "bin_start": 1287.4,
            "bin_end": 1330.2,
            "count": 0
           },
           {
            "bin_start": 1330.2,
            "bin_end": 1373,
            "count": 3
           }
          ]
         }
        },
        {
         "name": "Department",
         "dtype": "object",
         "stats": {
          "unique_count": 3,
          "nan_count": 0,
          "categories": [
           {
            "name": "Research & Development",
            "count": 3
           },
           {
            "name": "Human Resources",
            "count": 1
           },
           {
            "name": "Sales",
            "count": 1
           }
          ]
         }
        },
        {
         "name": "DistanceFromHome",
         "dtype": "int64",
         "stats": {
          "unique_count": 5,
          "nan_count": 0,
          "min": "2",
          "max": "25",
          "histogram": [
           {
            "bin_start": 2,
            "bin_end": 4.3,
            "count": 2
           },
           {
            "bin_start": 4.3,
            "bin_end": 6.6,
            "count": 1
           },
           {
            "bin_start": 6.6,
            "bin_end": 8.899999999999999,
            "count": 1
           },
           {
            "bin_start": 8.899999999999999,
            "bin_end": 11.2,
            "count": 0
           },
           {
            "bin_start": 11.2,
            "bin_end": 13.5,
            "count": 0
           },
           {
            "bin_start": 13.5,
            "bin_end": 15.799999999999999,
            "count": 0
           },
           {
            "bin_start": 15.799999999999999,
            "bin_end": 18.099999999999998,
            "count": 0
           },
           {
            "bin_start": 18.099999999999998,
            "bin_end": 20.4,
            "count": 0
           },
           {
            "bin_start": 20.4,
            "bin_end": 22.7,
            "count": 0
           },
           {
            "bin_start": 22.7,
            "bin_end": 25,
            "count": 1
           }
          ]
         }
        },
        {
         "name": "Education",
         "dtype": "int64",
         "stats": {
          "unique_count": 3,
          "nan_count": 0,
          "min": "1",
          "max": "3",
          "histogram": [
           {
            "bin_start": 1,
            "bin_end": 1.2,
            "count": 1
           },
           {
            "bin_start": 1.2,
            "bin_end": 1.4,
            "count": 0
           },
           {
            "bin_start": 1.4,
            "bin_end": 1.6,
            "count": 0
           },
           {
            "bin_start": 1.6,
            "bin_end": 1.8,
            "count": 0
           },
           {
            "bin_start": 1.8,
            "bin_end": 2,
            "count": 0
           },
           {
            "bin_start": 2,
            "bin_end": 2.2,
            "count": 2
           },
           {
            "bin_start": 2.2,
            "bin_end": 2.4000000000000004,
            "count": 0
           },
           {
            "bin_start": 2.4000000000000004,
            "bin_end": 2.6,
            "count": 0
           },
           {
            "bin_start": 2.6,
            "bin_end": 2.8,
            "count": 0
           },
           {
            "bin_start": 2.8,
            "bin_end": 3,
            "count": 2
           }
          ]
         }
        },
        {
         "name": "EducationField",
         "dtype": "object",
         "stats": {
          "unique_count": 5,
          "nan_count": 0,
          "categories": [
           {
            "name": "Other",
            "count": 1
           },
           {
            "name": "Technical Degree",
            "count": 1
           },
           {
            "name": "3 others",
            "count": 3
           }
          ]
         }
        },
        {
         "name": "EmployeeCount",
         "dtype": "int64",
         "stats": {
          "unique_count": 1,
          "nan_count": 0,
          "min": "1",
          "max": "1",
          "histogram": [
           {
            "bin_start": 0.5,
            "bin_end": 0.6,
            "count": 0
           },
           {
            "bin_start": 0.6,
            "bin_end": 0.7,
            "count": 0
           },
           {
            "bin_start": 0.7,
            "bin_end": 0.8,
            "count": 0
           },
           {
            "bin_start": 0.8,
            "bin_end": 0.9,
            "count": 0
           },
           {
            "bin_start": 0.9,
            "bin_end": 1,
            "count": 0
           },
           {
            "bin_start": 1,
            "bin_end": 1.1,
            "count": 5
           },
           {
            "bin_start": 1.1,
            "bin_end": 1.2000000000000002,
            "count": 0
           },
           {
            "bin_start": 1.2000000000000002,
            "bin_end": 1.3,
            "count": 0
           },
           {
            "bin_start": 1.3,
            "bin_end": 1.4,
            "count": 0
           },
           {
            "bin_start": 1.4,
            "bin_end": 1.5,
            "count": 0
           }
          ]
         }
        },
        {
         "name": "EmployeeNumber",
         "dtype": "int64",
         "stats": {
          "unique_count": 5,
          "nan_count": 0,
          "min": "4",
          "max": "593",
          "histogram": [
           {
            "bin_start": 4,
            "bin_end": 62.9,
            "count": 2
           },
           {
            "bin_start": 62.9,
            "bin_end": 121.8,
            "count": 1
           },
           {
            "bin_start": 121.8,
            "bin_end": 180.7,
            "count": 0
           },
           {
            "bin_start": 180.7,
            "bin_end": 239.6,
            "count": 1
           },
           {
            "bin_start": 239.6,
            "bin_end": 298.5,
            "count": 0
           },
           {
            "bin_start": 298.5,
            "bin_end": 357.4,
            "count": 0
           },
           {
            "bin_start": 357.4,
            "bin_end": 416.3,
            "count": 0
           },
           {
            "bin_start": 416.3,
            "bin_end": 475.2,
            "count": 0
           },
           {
            "bin_start": 475.2,
            "bin_end": 534.1,
            "count": 0
           },
           {
            "bin_start": 534.1,
            "bin_end": 593,
            "count": 1
           }
          ]
         }
        },
        {
         "name": "EnvironmentSatisfaction",
         "dtype": "int64",
         "stats": {
          "unique_count": 4,
          "nan_count": 0,
          "min": "1",
          "max": "4",
          "histogram": [
           {
            "bin_start": 1,
            "bin_end": 1.3,
            "count": 1
           },
           {
            "bin_start": 1.3,
            "bin_end": 1.6,
            "count": 0
           },
           {
            "bin_start": 1.6,
            "bin_end": 1.9,
            "count": 0
           },
           {
            "bin_start": 1.9,
            "bin_end": 2.2,
            "count": 2
           },
           {
            "bin_start": 2.2,
            "bin_end": 2.5,
            "count": 0
           },
           {
            "bin_start": 2.5,
            "bin_end": 2.8,
            "count": 0
           },
           {
            "bin_start": 2.8,
            "bin_end": 3.1,
            "count": 1
           },
           {
            "bin_start": 3.1,
            "bin_end": 3.4,
            "count": 0
           },
           {
            "bin_start": 3.4,
            "bin_end": 3.6999999999999997,
            "count": 0
           },
           {
            "bin_start": 3.6999999999999997,
            "bin_end": 4,
            "count": 1
           }
          ]
         }
        },
        {
         "name": "Gender",
         "dtype": "object",
         "stats": {
          "unique_count": 2,
          "nan_count": 0,
          "categories": [
           {
            "name": "Male",
            "count": 4
           },
           {
            "name": "Female",
            "count": 1
           }
          ]
         }
        },
        {
         "name": "HourlyRate",
         "dtype": "int64",
         "stats": {
          "unique_count": 5,
          "nan_count": 0,
          "min": "43",
          "max": "99",
          "histogram": [
           {
            "bin_start": 43,
            "bin_end": 48.6,
            "count": 2
           },
           {
            "bin_start": 48.6,
            "bin_end": 54.2,
            "count": 0
           },
           {
            "bin_start": 54.2,
            "bin_end": 59.8,
            "count": 0
           },
           {
            "bin_start": 59.8,
            "bin_end": 65.4,
            "count": 0
           },
           {
            "bin_start": 65.4,
            "bin_end": 71,
            "count": 0
           },
           {
            "bin_start": 71,
            "bin_end": 76.6,
            "count": 0
           },
           {
            "bin_start": 76.6,
            "bin_end": 82.19999999999999,
            "count": 1
           },
           {
            "bin_start": 82.19999999999999,
            "bin_end": 87.8,
            "count": 0
           },
           {
            "bin_start": 87.8,
            "bin_end": 93.4,
            "count": 1
           },
           {
            "bin_start": 93.4,
            "bin_end": 99,
            "count": 1
           }
          ]
         }
        },
        {
         "name": "JobInvolvement",
         "dtype": "int64",
         "stats": {
          "unique_count": 3,
          "nan_count": 0,
          "min": "1",
          "max": "3",
          "histogram": [
           {
            "bin_start": 1,
            "bin_end": 1.2,
            "count": 1
           },
           {
            "bin_start": 1.2,
            "bin_end": 1.4,
            "count": 0
           },
           {
            "bin_start": 1.4,
            "bin_end": 1.6,
            "count": 0
           },
           {
            "bin_start": 1.6,
            "bin_end": 1.8,
            "count": 0
           },
           {
            "bin_start": 1.8,
            "bin_end": 2,
            "count": 0
           },
           {
            "bin_start": 2,
            "bin_end": 2.2,
            "count": 2
           },
           {
            "bin_start": 2.2,
            "bin_end": 2.4000000000000004,
            "count": 0
           },
           {
            "bin_start": 2.4000000000000004,
            "bin_end": 2.6,
            "count": 0
           },
           {
            "bin_start": 2.6,
            "bin_end": 2.8,
            "count": 0
           },
           {
            "bin_start": 2.8,
            "bin_end": 3,
            "count": 2
           }
          ]
         }
        },
        {
         "name": "JobLevel",
         "dtype": "int64",
         "stats": {
          "unique_count": 3,
          "nan_count": 0,
          "min": "1",
          "max": "3",
          "histogram": [
           {
            "bin_start": 1,
            "bin_end": 1.2,
            "count": 3
           },
           {
            "bin_start": 1.2,
            "bin_end": 1.4,
            "count": 0
           },
           {
            "bin_start": 1.4,
            "bin_end": 1.6,
            "count": 0
           },
           {
            "bin_start": 1.6,
            "bin_end": 1.8,
            "count": 0
           },
           {
            "bin_start": 1.8,
            "bin_end": 2,
            "count": 0
           },
           {
            "bin_start": 2,
            "bin_end": 2.2,
            "count": 1
           },
           {
            "bin_start": 2.2,
            "bin_end": 2.4000000000000004,
            "count": 0
           },
           {
            "bin_start": 2.4000000000000004,
            "bin_end": 2.6,
            "count": 0
           },
           {
            "bin_start": 2.6,
            "bin_end": 2.8,
            "count": 0
           },
           {
            "bin_start": 2.8,
            "bin_end": 3,
            "count": 1
           }
          ]
         }
        },
        {
         "name": "JobRole",
         "dtype": "object",
         "stats": {
          "unique_count": 3,
          "nan_count": 0,
          "categories": [
           {
            "name": "Laboratory Technician",
            "count": 3
           },
           {
            "name": "Human Resources",
            "count": 1
           },
           {
            "name": "Sales Executive",
            "count": 1
           }
          ]
         }
        },
        {
         "name": "JobSatisfaction",
         "dtype": "int64",
         "stats": {
          "unique_count": 3,
          "nan_count": 0,
          "min": "2",
          "max": "4",
          "histogram": [
           {
            "bin_start": 2,
            "bin_end": 2.2,
            "count": 1
           },
           {
            "bin_start": 2.2,
            "bin_end": 2.4,
            "count": 0
           },
           {
            "bin_start": 2.4,
            "bin_end": 2.6,
            "count": 0
           },
           {
            "bin_start": 2.6,
            "bin_end": 2.8,
            "count": 0
           },
           {
            "bin_start": 2.8,
            "bin_end": 3,
            "count": 0
           },
           {
            "bin_start": 3,
            "bin_end": 3.2,
            "count": 3
           },
           {
            "bin_start": 3.2,
            "bin_end": 3.4000000000000004,
            "count": 0
           },
           {
            "bin_start": 3.4000000000000004,
            "bin_end": 3.6,
            "count": 0
           },
           {
            "bin_start": 3.6,
            "bin_end": 3.8,
            "count": 0
           },
           {
            "bin_start": 3.8,
            "bin_end": 4,
            "count": 1
           }
          ]
         }
        },
        {
         "name": "MaritalStatus",
         "dtype": "object",
         "stats": {
          "unique_count": 2,
          "nan_count": 0,
          "categories": [
           {
            "name": "Single",
            "count": 4
           },
           {
            "name": "Divorced",
            "count": 1
           }
          ]
         }
        },
        {
         "name": "MonthlyIncome",
         "dtype": "int64",
         "stats": {
          "unique_count": 5,
          "nan_count": 0,
          "min": "2090",
          "max": "8998",
          "histogram": [
           {
            "bin_start": 2090,
            "bin_end": 2780.8,
            "count": 2
           },
           {
            "bin_start": 2780.8,
            "bin_end": 3471.6,
            "count": 0
           },
           {
            "bin_start": 3471.6,
            "bin_end": 4162.4,
            "count": 1
           },
           {
            "bin_start": 4162.4,
            "bin_end": 4853.2,
            "count": 0
           },
           {
            "bin_start": 4853.2,
            "bin_end": 5544,
            "count": 1
           },
           {
            "bin_start": 5544,
            "bin_end": 6234.799999999999,
            "count": 0
           },
           {
            "bin_start": 6234.799999999999,
            "bin_end": 6925.599999999999,
            "count": 0
           },
           {
            "bin_start": 6925.599999999999,
            "bin_end": 7616.4,
            "count": 0
           },
           {
            "bin_start": 7616.4,
            "bin_end": 8307.2,
            "count": 0
           },
           {
            "bin_start": 8307.2,
            "bin_end": 8998,
            "count": 1
           }
          ]
         }
        },
        {
         "name": "MonthlyRate",
         "dtype": "int64",
         "stats": {
          "unique_count": 5,
          "nan_count": 0,
          "min": "2396",
          "max": "15589",
          "histogram": [
           {
            "bin_start": 2396,
            "bin_end": 3715.3,
            "count": 1
           },
           {
            "bin_start": 3715.3,
            "bin_end": 5034.6,
            "count": 0
           },
           {
            "bin_start": 5034.6,
            "bin_end": 6353.9,
            "count": 0
           },
           {
            "bin_start": 6353.9,
            "bin_end": 7673.2,
            "count": 0
           },
           {
            "bin_start": 7673.2,
            "bin_end": 8992.5,
            "count": 0
           },
           {
            "bin_start": 8992.5,
            "bin_end": 10311.8,
            "count": 1
           },
           {
            "bin_start": 10311.8,
            "bin_end": 11631.1,
            "count": 2
           },
           {
            "bin_start": 11631.1,
            "bin_end": 12950.4,
            "count": 0
           },
           {
            "bin_start": 12950.4,
            "bin_end": 14269.699999999999,
            "count": 0
           },
           {
            "bin_start": 14269.699999999999,
            "bin_end": 15589,
            "count": 1
           }
          ]
         }
        },
        {
         "name": "NumCompaniesWorked",
         "dtype": "int64",
         "stats": {
          "unique_count": 4,
          "nan_count": 0,
          "min": "1",
          "max": "8",
          "histogram": [
           {
            "bin_start": 1,
            "bin_end": 1.7,
            "count": 2
           },
           {
            "bin_start": 1.7,
            "bin_end": 2.4,
            "count": 0
           },
           {
            "bin_start": 2.4,
            "bin_end": 3.0999999999999996,
            "count": 0
           },
           {
            "bin_start": 3.0999999999999996,
            "bin_end": 3.8,
            "count": 0
           },
           {
            "bin_start": 3.8,
            "bin_end": 4.5,
            "count": 0
           },
           {
            "bin_start": 4.5,
            "bin_end": 5.199999999999999,
            "count": 1
           },
           {
            "bin_start": 5.199999999999999,
            "bin_end": 5.8999999999999995,
            "count": 0
           },
           {
            "bin_start": 5.8999999999999995,
            "bin_end": 6.6,
            "count": 1
           },
           {
            "bin_start": 6.6,
            "bin_end": 7.3,
            "count": 0
           },
           {
            "bin_start": 7.3,
            "bin_end": 8,
            "count": 1
           }
          ]
         }
        },
        {
         "name": "Over18",
         "dtype": "object",
         "stats": {
          "unique_count": 1,
          "nan_count": 0,
          "categories": [
           {
            "name": "Y",
            "count": 5
           }
          ]
         }
        },
        {
         "name": "OverTime",
         "dtype": "object",
         "stats": {
          "unique_count": 2,
          "nan_count": 0,
          "categories": [
           {
            "name": "No",
            "count": 3
           },
           {
            "name": "Yes",
            "count": 2
           }
          ]
         }
        },
        {
         "name": "PercentSalaryHike",
         "dtype": "int64",
         "stats": {
          "unique_count": 5,
          "nan_count": 0,
          "min": "12",
          "max": "22",
          "histogram": [
           {
            "bin_start": 12,
            "bin_end": 13,
            "count": 1
           },
           {
            "bin_start": 13,
            "bin_end": 14,
            "count": 0
           },
           {
            "bin_start": 14,
            "bin_end": 15,
            "count": 1
           },
           {
            "bin_start": 15,
            "bin_end": 16,
            "count": 1
           },
           {
            "bin_start": 16,
            "bin_end": 17,
            "count": 1
           },
           {
            "bin_start": 17,
            "bin_end": 18,
            "count": 0
           },
           {
            "bin_start": 18,
            "bin_end": 19,
            "count": 0
           },
           {
            "bin_start": 19,
            "bin_end": 20,
            "count": 0
           },
           {
            "bin_start": 20,
            "bin_end": 21,
            "count": 0
           },
           {
            "bin_start": 21,
            "bin_end": 22,
            "count": 1
           }
          ]
         }
        },
        {
         "name": "PerformanceRating",
         "dtype": "int64",
         "stats": {
          "unique_count": 2,
          "nan_count": 0,
          "min": "3",
          "max": "4",
          "histogram": [
           {
            "bin_start": 3,
            "bin_end": 3.1,
            "count": 4
           },
           {
            "bin_start": 3.1,
            "bin_end": 3.2,
            "count": 0
           },
           {
            "bin_start": 3.2,
            "bin_end": 3.3,
            "count": 0
           },
           {
            "bin_start": 3.3,
            "bin_end": 3.4,
            "count": 0
           },
           {
            "bin_start": 3.4,
            "bin_end": 3.5,
            "count": 0
           },
           {
            "bin_start": 3.5,
            "bin_end": 3.6,
            "count": 0
           },
           {
            "bin_start": 3.6,
            "bin_end": 3.7,
            "count": 0
           },
           {
            "bin_start": 3.7,
            "bin_end": 3.8,
            "count": 0
           },
           {
            "bin_start": 3.8,
            "bin_end": 3.9,
            "count": 0
           },
           {
            "bin_start": 3.9,
            "bin_end": 4,
            "count": 1
           }
          ]
         }
        },
        {
         "name": "RelationshipSatisfaction",
         "dtype": "int64",
         "stats": {
          "unique_count": 3,
          "nan_count": 0,
          "min": "2",
          "max": "4",
          "histogram": [
           {
            "bin_start": 2,
            "bin_end": 2.2,
            "count": 1
           },
           {
            "bin_start": 2.2,
            "bin_end": 2.4,
            "count": 0
           },
           {
            "bin_start": 2.4,
            "bin_end": 2.6,
            "count": 0
           },
           {
            "bin_start": 2.6,
            "bin_end": 2.8,
            "count": 0
           },
           {
            "bin_start": 2.8,
            "bin_end": 3,
            "count": 0
           },
           {
            "bin_start": 3,
            "bin_end": 3.2,
            "count": 2
           },
           {
            "bin_start": 3.2,
            "bin_end": 3.4000000000000004,
            "count": 0
           },
           {
            "bin_start": 3.4000000000000004,
            "bin_end": 3.6,
            "count": 0
           },
           {
            "bin_start": 3.6,
            "bin_end": 3.8,
            "count": 0
           },
           {
            "bin_start": 3.8,
            "bin_end": 4,
            "count": 2
           }
          ]
         }
        },
        {
         "name": "StandardHours",
         "dtype": "int64",
         "stats": {
          "unique_count": 1,
          "nan_count": 0,
          "min": "80",
          "max": "80",
          "histogram": [
           {
            "bin_start": 79.5,
            "bin_end": 79.6,
            "count": 0
           },
           {
            "bin_start": 79.6,
            "bin_end": 79.7,
            "count": 0
           },
           {
            "bin_start": 79.7,
            "bin_end": 79.8,
            "count": 0
           },
           {
            "bin_start": 79.8,
            "bin_end": 79.9,
            "count": 0
           },
           {
            "bin_start": 79.9,
            "bin_end": 80,
            "count": 0
           },
           {
            "bin_start": 80,
            "bin_end": 80.1,
            "count": 5
           },
           {
            "bin_start": 80.1,
            "bin_end": 80.2,
            "count": 0
           },
           {
            "bin_start": 80.2,
            "bin_end": 80.3,
            "count": 0
           },
           {
            "bin_start": 80.3,
            "bin_end": 80.4,
            "count": 0
           },
           {
            "bin_start": 80.4,
            "bin_end": 80.5,
            "count": 0
           }
          ]
         }
        },
        {
         "name": "StockOptionLevel",
         "dtype": "int64",
         "stats": {
          "unique_count": 2,
          "nan_count": 0,
          "min": "0",
          "max": "1",
          "histogram": [
           {
            "bin_start": 0,
            "bin_end": 0.1,
            "count": 4
           },
           {
            "bin_start": 0.1,
            "bin_end": 0.2,
            "count": 0
           },
           {
            "bin_start": 0.2,
            "bin_end": 0.30000000000000004,
            "count": 0
           },
           {
            "bin_start": 0.30000000000000004,
            "bin_end": 0.4,
            "count": 0
           },
           {
            "bin_start": 0.4,
            "bin_end": 0.5,
            "count": 0
           },
           {
            "bin_start": 0.5,
            "bin_end": 0.6000000000000001,
            "count": 0
           },
           {
            "bin_start": 0.6000000000000001,
            "bin_end": 0.7000000000000001,
            "count": 0
           },
           {
            "bin_start": 0.7000000000000001,
            "bin_end": 0.8,
            "count": 0
           },
           {
            "bin_start": 0.8,
            "bin_end": 0.9,
            "count": 0
           },
           {
            "bin_start": 0.9,
            "bin_end": 1,
            "count": 1
           }
          ]
         }
        },
        {
         "name": "TotalWorkingYears",
         "dtype": "int64",
         "stats": {
          "unique_count": 5,
          "nan_count": 0,
          "min": "1",
          "max": "16",
          "histogram": [
           {
            "bin_start": 1,
            "bin_end": 2.5,
            "count": 1
           },
           {
            "bin_start": 2.5,
            "bin_end": 4,
            "count": 0
           },
           {
            "bin_start": 4,
            "bin_end": 5.5,
            "count": 1
           },
           {
            "bin_start": 5.5,
            "bin_end": 7,
            "count": 0
           },
           {
            "bin_start": 7,
            "bin_end": 8.5,
            "count": 1
           },
           {
            "bin_start": 8.5,
            "bin_end": 10,
            "count": 1
           },
           {
            "bin_start": 10,
            "bin_end": 11.5,
            "count": 0
           },
           {
            "bin_start": 11.5,
            "bin_end": 13,
            "count": 0
           },
           {
            "bin_start": 13,
            "bin_end": 14.5,
            "count": 0
           },
           {
            "bin_start": 14.5,
            "bin_end": 16,
            "count": 1
           }
          ]
         }
        },
        {
         "name": "TrainingTimesLastYear",
         "dtype": "int64",
         "stats": {
          "unique_count": 2,
          "nan_count": 0,
          "min": "2",
          "max": "3",
          "histogram": [
           {
            "bin_start": 2,
            "bin_end": 2.1,
            "count": 3
           },
           {
            "bin_start": 2.1,
            "bin_end": 2.2,
            "count": 0
           },
           {
            "bin_start": 2.2,
            "bin_end": 2.3,
            "count": 0
           },
           {
            "bin_start": 2.3,
            "bin_end": 2.4,
            "count": 0
           },
           {
            "bin_start": 2.4,
            "bin_end": 2.5,
            "count": 0
           },
           {
            "bin_start": 2.5,
            "bin_end": 2.6,
            "count": 0
           },
           {
            "bin_start": 2.6,
            "bin_end": 2.7,
            "count": 0
           },
           {
            "bin_start": 2.7,
            "bin_end": 2.8,
            "count": 0
           },
           {
            "bin_start": 2.8,
            "bin_end": 2.9,
            "count": 0
           },
           {
            "bin_start": 2.9,
            "bin_end": 3,
            "count": 2
           }
          ]
         }
        },
        {
         "name": "WorkLifeBalance",
         "dtype": "int64",
         "stats": {
          "unique_count": 2,
          "nan_count": 0,
          "min": "2",
          "max": "3",
          "histogram": [
           {
            "bin_start": 2,
            "bin_end": 2.1,
            "count": 1
           },
           {
            "bin_start": 2.1,
            "bin_end": 2.2,
            "count": 0
           },
           {
            "bin_start": 2.2,
            "bin_end": 2.3,
            "count": 0
           },
           {
            "bin_start": 2.3,
            "bin_end": 2.4,
            "count": 0
           },
           {
            "bin_start": 2.4,
            "bin_end": 2.5,
            "count": 0
           },
           {
            "bin_start": 2.5,
            "bin_end": 2.6,
            "count": 0
           },
           {
            "bin_start": 2.6,
            "bin_end": 2.7,
            "count": 0
           },
           {
            "bin_start": 2.7,
            "bin_end": 2.8,
            "count": 0
           },
           {
            "bin_start": 2.8,
            "bin_end": 2.9,
            "count": 0
           },
           {
            "bin_start": 2.9,
            "bin_end": 3,
            "count": 4
           }
          ]
         }
        },
        {
         "name": "YearsAtCompany",
         "dtype": "int64",
         "stats": {
          "unique_count": 5,
          "nan_count": 0,
          "min": "0",
          "max": "9",
          "histogram": [
           {
            "bin_start": 0,
            "bin_end": 0.9,
            "count": 1
           },
           {
            "bin_start": 0.9,
            "bin_end": 1.8,
            "count": 1
           },
           {
            "bin_start": 1.8,
            "bin_end": 2.7,
            "count": 1
           },
           {
            "bin_start": 2.7,
            "bin_end": 3.6,
            "count": 0
           },
           {
            "bin_start": 3.6,
            "bin_end": 4.5,
            "count": 1
           },
           {
            "bin_start": 4.5,
            "bin_end": 5.4,
            "count": 0
           },
           {
            "bin_start": 5.4,
            "bin_end": 6.3,
            "count": 0
           },
           {
            "bin_start": 6.3,
            "bin_end": 7.2,
            "count": 0
           },
           {
            "bin_start": 7.2,
            "bin_end": 8.1,
            "count": 0
           },
           {
            "bin_start": 8.1,
            "bin_end": 9,
            "count": 1
           }
          ]
         }
        },
        {
         "name": "YearsInCurrentRole",
         "dtype": "int64",
         "stats": {
          "unique_count": 3,
          "nan_count": 0,
          "min": "0",
          "max": "8",
          "histogram": [
           {
            "bin_start": 0,
            "bin_end": 0.8,
            "count": 2
           },
           {
            "bin_start": 0.8,
            "bin_end": 1.6,
            "count": 0
           },
           {
            "bin_start": 1.6,
            "bin_end": 2.4000000000000004,
            "count": 2
           },
           {
            "bin_start": 2.4000000000000004,
            "bin_end": 3.2,
            "count": 0
           },
           {
            "bin_start": 3.2,
            "bin_end": 4,
            "count": 0
           },
           {
            "bin_start": 4,
            "bin_end": 4.800000000000001,
            "count": 0
           },
           {
            "bin_start": 4.800000000000001,
            "bin_end": 5.6000000000000005,
            "count": 0
           },
           {
            "bin_start": 5.6000000000000005,
            "bin_end": 6.4,
            "count": 0
           },
           {
            "bin_start": 6.4,
            "bin_end": 7.2,
            "count": 0
           },
           {
            "bin_start": 7.2,
            "bin_end": 8,
            "count": 1
           }
          ]
         }
        },
        {
         "name": "YearsSinceLastPromotion",
         "dtype": "int64",
         "stats": {
          "unique_count": 3,
          "nan_count": 0,
          "min": "0",
          "max": "3",
          "histogram": [
           {
            "bin_start": 0,
            "bin_end": 0.3,
            "count": 3
           },
           {
            "bin_start": 0.3,
            "bin_end": 0.6,
            "count": 0
           },
           {
            "bin_start": 0.6,
            "bin_end": 0.8999999999999999,
            "count": 0
           },
           {
            "bin_start": 0.8999999999999999,
            "bin_end": 1.2,
            "count": 1
           },
           {
            "bin_start": 1.2,
            "bin_end": 1.5,
            "count": 0
           },
           {
            "bin_start": 1.5,
            "bin_end": 1.7999999999999998,
            "count": 0
           },
           {
            "bin_start": 1.7999999999999998,
            "bin_end": 2.1,
            "count": 0
           },
           {
            "bin_start": 2.1,
            "bin_end": 2.4,
            "count": 0
           },
           {
            "bin_start": 2.4,
            "bin_end": 2.6999999999999997,
            "count": 0
           },
           {
            "bin_start": 2.6999999999999997,
            "bin_end": 3,
            "count": 1
           }
          ]
         }
        },
        {
         "name": "YearsWithCurrManager",
         "dtype": "int64",
         "stats": {
          "unique_count": 4,
          "nan_count": 0,
          "min": "0",
          "max": "7",
          "histogram": [
           {
            "bin_start": 0,
            "bin_end": 0.7,
            "count": 1
           },
           {
            "bin_start": 0.7,
            "bin_end": 1.4,
            "count": 1
           },
           {
            "bin_start": 1.4,
            "bin_end": 2.0999999999999996,
            "count": 2
           },
           {
            "bin_start": 2.0999999999999996,
            "bin_end": 2.8,
            "count": 0
           },
           {
            "bin_start": 2.8,
            "bin_end": 3.5,
            "count": 0
           },
           {
            "bin_start": 3.5,
            "bin_end": 4.199999999999999,
            "count": 0
           },
           {
            "bin_start": 4.199999999999999,
            "bin_end": 4.8999999999999995,
            "count": 0
           },
           {
            "bin_start": 4.8999999999999995,
            "bin_end": 5.6,
            "count": 0
           },
           {
            "bin_start": 5.6,
            "bin_end": 6.3,
            "count": 0
           },
           {
            "bin_start": 6.3,
            "bin_end": 7,
            "count": 1
           }
          ]
         }
        },
        {
         "name": "_deepnote_index_column",
         "dtype": "int64"
        }
       ],
       "rows": [
        {
         "Age": 37,
         "Attrition": "Yes",
         "BusinessTravel": "Travel_Rarely",
         "DailyRate": 1373,
         "Department": "Research & Development",
         "DistanceFromHome": 2,
         "Education": 2,
         "EducationField": "Other",
         "EmployeeCount": 1,
         "EmployeeNumber": 4,
         "EnvironmentSatisfaction": 4,
         "Gender": "Male",
         "HourlyRate": 92,
         "JobInvolvement": 2,
         "JobLevel": 1,
         "JobRole": "Laboratory Technician",
         "JobSatisfaction": 3,
         "MaritalStatus": "Single",
         "MonthlyIncome": 2090,
         "MonthlyRate": 2396,
         "NumCompaniesWorked": 6,
         "Over18": "Y",
         "OverTime": "Yes",
         "PercentSalaryHike": 15,
         "PerformanceRating": 3,
         "RelationshipSatisfaction": 2,
         "StandardHours": 80,
         "StockOptionLevel": 0,
         "TotalWorkingYears": 7,
         "TrainingTimesLastYear": 3,
         "WorkLifeBalance": 3,
         "YearsAtCompany": 0,
         "YearsInCurrentRole": 0,
         "YearsSinceLastPromotion": 0,
         "YearsWithCurrManager": 0,
         "_deepnote_index_column": 0
        },
        {
         "Age": 22,
         "Attrition": "Yes",
         "BusinessTravel": "Travel_Frequently",
         "DailyRate": 1368,
         "Department": "Research & Development",
         "DistanceFromHome": 4,
         "Education": 1,
         "EducationField": "Technical Degree",
         "EmployeeCount": 1,
         "EmployeeNumber": 593,
         "EnvironmentSatisfaction": 3,
         "Gender": "Male",
         "HourlyRate": 99,
         "JobInvolvement": 2,
         "JobLevel": 1,
         "JobRole": "Laboratory Technician",
         "JobSatisfaction": 3,
         "MaritalStatus": "Single",
         "MonthlyIncome": 3894,
         "MonthlyRate": 9129,
         "NumCompaniesWorked": 5,
         "Over18": "Y",
         "OverTime": "No",
         "PercentSalaryHike": 16,
         "PerformanceRating": 3,
         "RelationshipSatisfaction": 3,
         "StandardHours": 80,
         "StockOptionLevel": 0,
         "TotalWorkingYears": 4,
         "TrainingTimesLastYear": 3,
         "WorkLifeBalance": 3,
         "YearsAtCompany": 2,
         "YearsInCurrentRole": 2,
         "YearsSinceLastPromotion": 1,
         "YearsWithCurrManager": 2,
         "_deepnote_index_column": 1
        },
        {
         "Age": 26,
         "Attrition": "Yes",
         "BusinessTravel": "Travel_Rarely",
         "DailyRate": 1357,
         "Department": "Research & Development",
         "DistanceFromHome": 25,
         "Education": 3,
         "EducationField": "Life Sciences",
         "EmployeeCount": 1,
         "EmployeeNumber": 55,
         "EnvironmentSatisfaction": 1,
         "Gender": "Male",
         "HourlyRate": 48,
         "JobInvolvement": 1,
         "JobLevel": 1,
         "JobRole": "Laboratory Technician",
         "JobSatisfaction": 3,
         "MaritalStatus": "Single",
         "MonthlyIncome": 2293,
         "MonthlyRate": 10558,
         "NumCompaniesWorked": 1,
         "Over18": "Y",
         "OverTime": "No",
         "PercentSalaryHike": 12,
         "PerformanceRating": 3,
         "RelationshipSatisfaction": 3,
         "StandardHours": 80,
         "StockOptionLevel": 0,
         "TotalWorkingYears": 1,
         "TrainingTimesLastYear": 2,
         "WorkLifeBalance": 2,
         "YearsAtCompany": 1,
         "YearsInCurrentRole": 0,
         "YearsSinceLastPromotion": 0,
         "YearsWithCurrManager": 1,
         "_deepnote_index_column": 2
        },
        {
         "Age": 46,
         "Attrition": "No",
         "BusinessTravel": "Travel_Rarely",
         "DailyRate": 945,
         "Department": "Human Resources",
         "DistanceFromHome": 5,
         "Education": 2,
         "EducationField": "Medical",
         "EmployeeCount": 1,
         "EmployeeNumber": 103,
         "EnvironmentSatisfaction": 2,
         "Gender": "Male",
         "HourlyRate": 80,
         "JobInvolvement": 3,
         "JobLevel": 2,
         "JobRole": "Human Resources",
         "JobSatisfaction": 2,
         "MaritalStatus": "Divorced",
         "MonthlyIncome": 5021,
         "MonthlyRate": 10425,
         "NumCompaniesWorked": 8,
         "Over18": "Y",
         "OverTime": "Yes",
         "PercentSalaryHike": 22,
         "PerformanceRating": 4,
         "RelationshipSatisfaction": 4,
         "StandardHours": 80,
         "StockOptionLevel": 1,
         "TotalWorkingYears": 16,
         "TrainingTimesLastYear": 2,
         "WorkLifeBalance": 3,
         "YearsAtCompany": 4,
         "YearsInCurrentRole": 2,
         "YearsSinceLastPromotion": 0,
         "YearsWithCurrManager": 2,
         "_deepnote_index_column": 3
        },
        {
         "Age": 32,
         "Attrition": "No",
         "BusinessTravel": "Travel_Frequently",
         "DailyRate": 967,
         "Department": "Sales",
         "DistanceFromHome": 8,
         "Education": 3,
         "EducationField": "Marketing",
         "EmployeeCount": 1,
         "EmployeeNumber": 207,
         "EnvironmentSatisfaction": 2,
         "Gender": "Female",
         "HourlyRate": 43,
         "JobInvolvement": 3,
         "JobLevel": 3,
         "JobRole": "Sales Executive",
         "JobSatisfaction": 4,
         "MaritalStatus": "Single",
         "MonthlyIncome": 8998,
         "MonthlyRate": 15589,
         "NumCompaniesWorked": 1,
         "Over18": "Y",
         "OverTime": "No",
         "PercentSalaryHike": 14,
         "PerformanceRating": 3,
         "RelationshipSatisfaction": 4,
         "StandardHours": 80,
         "StockOptionLevel": 0,
         "TotalWorkingYears": 9,
         "TrainingTimesLastYear": 2,
         "WorkLifeBalance": 3,
         "YearsAtCompany": 9,
         "YearsInCurrentRole": 8,
         "YearsSinceLastPromotion": 3,
         "YearsWithCurrManager": 7,
         "_deepnote_index_column": 4
        }
       ]
      },
      "text/plain": "   Age Attrition     BusinessTravel  DailyRate              Department  \\\n0   37       Yes      Travel_Rarely       1373  Research & Development   \n1   22       Yes  Travel_Frequently       1368  Research & Development   \n2   26       Yes      Travel_Rarely       1357  Research & Development   \n3   46        No      Travel_Rarely        945         Human Resources   \n4   32        No  Travel_Frequently        967                   Sales   \n\n   DistanceFromHome  Education    EducationField  EmployeeCount  \\\n0                 2          2             Other              1   \n1                 4          1  Technical Degree              1   \n2                25          3     Life Sciences              1   \n3                 5          2           Medical              1   \n4                 8          3         Marketing              1   \n\n   EmployeeNumber  ...  RelationshipSatisfaction StandardHours  \\\n0               4  ...                         2            80   \n1             593  ...                         3            80   \n2              55  ...                         3            80   \n3             103  ...                         4            80   \n4             207  ...                         4            80   \n\n   StockOptionLevel  TotalWorkingYears  TrainingTimesLastYear WorkLifeBalance  \\\n0                 0                  7                      3               3   \n1                 0                  4                      3               3   \n2                 0                  1                      2               2   \n3                 1                 16                      2               3   \n4                 0                  9                      2               3   \n\n   YearsAtCompany YearsInCurrentRole  YearsSinceLastPromotion  \\\n0               0                  0                        0   \n1               2                  2                        1   \n2               1                  0                        0   \n3               4                  2                        0   \n4               9                  8                        3   \n\n   YearsWithCurrManager  \n0                     0  \n1                     2  \n2                     1  \n3                     2  \n4                     7  \n\n[5 rows x 35 columns]",
      "text/html": "<div>\n<style scoped>\n    .dataframe tbody tr th:only-of-type {\n        vertical-align: middle;\n    }\n\n    .dataframe tbody tr th {\n        vertical-align: top;\n    }\n\n    .dataframe thead th {\n        text-align: right;\n    }\n</style>\n<table border=\"1\" class=\"dataframe\">\n  <thead>\n    <tr style=\"text-align: right;\">\n      <th></th>\n      <th>Age</th>\n      <th>Attrition</th>\n      <th>BusinessTravel</th>\n      <th>DailyRate</th>\n      <th>Department</th>\n      <th>DistanceFromHome</th>\n      <th>Education</th>\n      <th>EducationField</th>\n      <th>EmployeeCount</th>\n      <th>EmployeeNumber</th>\n      <th>...</th>\n      <th>RelationshipSatisfaction</th>\n      <th>StandardHours</th>\n      <th>StockOptionLevel</th>\n      <th>TotalWorkingYears</th>\n      <th>TrainingTimesLastYear</th>\n      <th>WorkLifeBalance</th>\n      <th>YearsAtCompany</th>\n      <th>YearsInCurrentRole</th>\n      <th>YearsSinceLastPromotion</th>\n      <th>YearsWithCurrManager</th>\n    </tr>\n  </thead>\n  <tbody>\n    <tr>\n      <th>0</th>\n      <td>37</td>\n      <td>Yes</td>\n      <td>Travel_Rarely</td>\n      <td>1373</td>\n      <td>Research &amp; Development</td>\n      <td>2</td>\n      <td>2</td>\n      <td>Other</td>\n      <td>1</td>\n      <td>4</td>\n      <td>...</td>\n      <td>2</td>\n      <td>80</td>\n      <td>0</td>\n      <td>7</td>\n      <td>3</td>\n      <td>3</td>\n      <td>0</td>\n      <td>0</td>\n      <td>0</td>\n      <td>0</td>\n    </tr>\n    <tr>\n      <th>1</th>\n      <td>22</td>\n      <td>Yes</td>\n      <td>Travel_Frequently</td>\n      <td>1368</td>\n      <td>Research &amp; Development</td>\n      <td>4</td>\n      <td>1</td>\n      <td>Technical Degree</td>\n      <td>1</td>\n      <td>593</td>\n      <td>...</td>\n      <td>3</td>\n      <td>80</td>\n      <td>0</td>\n      <td>4</td>\n      <td>3</td>\n      <td>3</td>\n      <td>2</td>\n      <td>2</td>\n      <td>1</td>\n      <td>2</td>\n    </tr>\n    <tr>\n      <th>2</th>\n      <td>26</td>\n      <td>Yes</td>\n      <td>Travel_Rarely</td>\n      <td>1357</td>\n      <td>Research &amp; Development</td>\n      <td>25</td>\n      <td>3</td>\n      <td>Life Sciences</td>\n      <td>1</td>\n      <td>55</td>\n      <td>...</td>\n      <td>3</td>\n      <td>80</td>\n      <td>0</td>\n      <td>1</td>\n      <td>2</td>\n      <td>2</td>\n      <td>1</td>\n      <td>0</td>\n      <td>0</td>\n      <td>1</td>\n    </tr>\n    <tr>\n      <th>3</th>\n      <td>46</td>\n      <td>No</td>\n      <td>Travel_Rarely</td>\n      <td>945</td>\n      <td>Human Resources</td>\n      <td>5</td>\n      <td>2</td>\n      <td>Medical</td>\n      <td>1</td>\n      <td>103</td>\n      <td>...</td>\n      <td>4</td>\n      <td>80</td>\n      <td>1</td>\n      <td>16</td>\n      <td>2</td>\n      <td>3</td>\n      <td>4</td>\n      <td>2</td>\n      <td>0</td>\n      <td>2</td>\n    </tr>\n    <tr>\n      <th>4</th>\n      <td>32</td>\n      <td>No</td>\n      <td>Travel_Frequently</td>\n      <td>967</td>\n      <td>Sales</td>\n      <td>8</td>\n      <td>3</td>\n      <td>Marketing</td>\n      <td>1</td>\n      <td>207</td>\n      <td>...</td>\n      <td>4</td>\n      <td>80</td>\n      <td>0</td>\n      <td>9</td>\n      <td>2</td>\n      <td>3</td>\n      <td>9</td>\n      <td>8</td>\n      <td>3</td>\n      <td>7</td>\n    </tr>\n  </tbody>\n</table>\n<p>5 rows × 35 columns</p>\n</div>"
     },
     "metadata": {}
    }
   ]
  },
  {
   "cell_type": "code",
   "metadata": {
    "cell_id": "bef73c26-7c7c-4ed6-a02f-c4d4699fb3f7",
    "tags": [],
    "deepnote_to_be_reexecuted": false,
    "source_hash": "803f501e",
    "execution_start": 1647107030728,
    "execution_millis": 185,
    "deepnote_cell_type": "code",
    "deepnote_cell_height": 413.1875,
    "deepnote_output_heights": [
     null,
     264
    ]
   },
   "source": "sns.histplot(x= 'Attrition',data = df_HR_sample)",
   "execution_count": null,
   "outputs": [
    {
     "output_type": "execute_result",
     "execution_count": 6,
     "data": {
      "text/plain": "<AxesSubplot:xlabel='Attrition', ylabel='Count'>"
     },
     "metadata": {}
    },
    {
     "data": {
      "text/plain": "<Figure size 432x288 with 1 Axes>",
      "image/png": "[encoded data removed]"
     },
     "metadata": {
      "needs_background": "light",
      "image/png": {
       "width": 389,
       "height": 262
      }
     },
     "output_type": "display_data"
    }
   ]
  },
  {
   "cell_type": "markdown",
   "source": "Algunos datos categóricos deben transformarse en información numérica.",
   "metadata": {
    "cell_id": "50bd0dd5-7979-4d68-9aeb-706a37537a53",
    "tags": [],
    "deepnote_cell_type": "markdown",
    "deepnote_cell_height": 52.390625
   }
  },
  {
   "cell_type": "code",
   "metadata": {
    "cell_id": "dd0cd518-524d-4908-95dd-86e23ffa0d79",
    "tags": [],
    "deepnote_to_be_reexecuted": false,
    "source_hash": "c9f4ae28",
    "execution_start": 1647107030912,
    "execution_millis": 35,
    "deepnote_cell_type": "code",
    "deepnote_cell_height": 554
   },
   "source": "df_HR_sample_LR = df_HR_sample.copy()\n\ndf_HR_sample_LR['Attrition'].replace(['No','Yes',],[0, 1], inplace=True)\ndf_HR_sample_LR['Education'].replace(['No','Yes',],[0, 1], inplace=True)\ndf_HR_sample_LR['BusinessTravel'].replace([ 'Non-Travel','Travel_Rarely', 'Travel_Frequently'],[0, 1,2], inplace=True)\ndf_HR_sample_LR['Gender'].replace(['Female', 'Male'],[0, 1], inplace=True)\ndf_HR_sample_LR['OverTime'].replace(['Yes', 'No'],[1, 0], inplace=True)\ndf_HR_sample_LR.drop(columns = ['Department','EducationField','JobRole','MaritalStatus','EmployeeCount','Over18','StandardHours'],inplace=True)\ndf_HR_sample_LR.head(5)",
   "execution_count": null,
   "outputs": [
    {
     "output_type": "execute_result",
     "execution_count": 7,
     "data": {
      "application/vnd.deepnote.dataframe.v3+json": {
       "column_count": 28,
       "row_count": 5,
       "columns": [
        {
         "name": "Age",
         "dtype": "int64",
         "stats": {
          "unique_count": 5,
          "nan_count": 0,
          "min": "22",
          "max": "46",
          "histogram": [
           {
            "bin_start": 22,
            "bin_end": 24.4,
            "count": 1
           },
           {
            "bin_start": 24.4,
            "bin_end": 26.8,
            "count": 1
           },
           {
            "bin_start": 26.8,
            "bin_end": 29.2,
            "count": 0
           },
           {
            "bin_start": 29.2,
            "bin_end": 31.6,
            "count": 0
           },
           {
            "bin_start": 31.6,
            "bin_end": 34,
            "count": 1
           },
           {
            "bin_start": 34,
            "bin_end": 36.4,
            "count": 0
           },
           {
            "bin_start": 36.4,
            "bin_end": 38.8,
            "count": 1
           },
           {
            "bin_start": 38.8,
            "bin_end": 41.2,
            "count": 0
           },
           {
            "bin_start": 41.2,
            "bin_end": 43.599999999999994,
            "count": 0
           },
           {
            "bin_start": 43.599999999999994,
            "bin_end": 46,
            "count": 1
           }
          ]
         }
        },
        {
         "name": "Attrition",
         "dtype": "int64",
         "stats": {
          "unique_count": 2,
          "nan_count": 0,
          "min": "0",
          "max": "1",
          "histogram": [
           {
            "bin_start": 0,
            "bin_end": 0.1,
            "count": 2
           },
           {
            "bin_start": 0.1,
            "bin_end": 0.2,
            "count": 0
           },
           {
            "bin_start": 0.2,
            "bin_end": 0.30000000000000004,
            "count": 0
           },
           {
            "bin_start": 0.30000000000000004,
            "bin_end": 0.4,
            "count": 0
           },
           {
            "bin_start": 0.4,
            "bin_end": 0.5,
            "count": 0
           },
           {
            "bin_start": 0.5,
            "bin_end": 0.6000000000000001,
            "count": 0
           },
           {
            "bin_start": 0.6000000000000001,
            "bin_end": 0.7000000000000001,
            "count": 0
           },
           {
            "bin_start": 0.7000000000000001,
            "bin_end": 0.8,
            "count": 0
           },
           {
            "bin_start": 0.8,
            "bin_end": 0.9,
            "count": 0
           },
           {
            "bin_start": 0.9,
            "bin_end": 1,
            "count": 3
           }
          ]
         }
        },
        {
         "name": "BusinessTravel",
         "dtype": "int64",
         "stats": {
          "unique_count": 2,
          "nan_count": 0,
          "min": "1",
          "max": "2",
          "histogram": [
           {
            "bin_start": 1,
            "bin_end": 1.1,
            "count": 3
           },
           {
            "bin_start": 1.1,
            "bin_end": 1.2,
            "count": 0
           },
           {
            "bin_start": 1.2,
            "bin_end": 1.3,
            "count": 0
           },
           {
            "bin_start": 1.3,
            "bin_end": 1.4,
            "count": 0
           },
           {
            "bin_start": 1.4,
            "bin_end": 1.5,
            "count": 0
           },
           {
            "bin_start": 1.5,
            "bin_end": 1.6,
            "count": 0
           },
           {
            "bin_start": 1.6,
            "bin_end": 1.7000000000000002,
            "count": 0
           },
           {
            "bin_start": 1.7000000000000002,
            "bin_end": 1.8,
            "count": 0
           },
           {
            "bin_start": 1.8,
            "bin_end": 1.9,
            "count": 0
           },
           {
            "bin_start": 1.9,
            "bin_end": 2,
            "count": 2
           }
          ]
         }
        },
        {
         "name": "DailyRate",
         "dtype": "int64",
         "stats": {
          "unique_count": 5,
          "nan_count": 0,
          "min": "945",
          "max": "1373",
          "histogram": [
           {
            "bin_start": 945,
            "bin_end": 987.8,
            "count": 2
           },
           {
            "bin_start": 987.8,
            "bin_end": 1030.6,
            "count": 0
           },
           {
            "bin_start": 1030.6,
            "bin_end": 1073.4,
            "count": 0
           },
           {
            "bin_start": 1073.4,
            "bin_end": 1116.2,
            "count": 0
           },
           {
            "bin_start": 1116.2,
            "bin_end": 1159,
            "count": 0
           },
           {
            "bin_start": 1159,
            "bin_end": 1201.8,
            "count": 0
           },
           {
            "bin_start": 1201.8,
            "bin_end": 1244.6,
            "count": 0
           },
           {
            "bin_start": 1244.6,
            "bin_end": 1287.4,
            "count": 0
           },
           {
            "bin_start": 1287.4,
            "bin_end": 1330.2,
            "count": 0
           },
           {
            "bin_start": 1330.2,
            "bin_end": 1373,
            "count": 3
           }
          ]
         }
        },
        {
         "name": "DistanceFromHome",
         "dtype": "int64",
         "stats": {
          "unique_count": 5,
          "nan_count": 0,
          "min": "2",
          "max": "25",
          "histogram": [
           {
            "bin_start": 2,
            "bin_end": 4.3,
            "count": 2
           },
           {
            "bin_start": 4.3,
            "bin_end": 6.6,
            "count": 1
           },
           {
            "bin_start": 6.6,
            "bin_end": 8.899999999999999,
            "count": 1
           },
           {
            "bin_start": 8.899999999999999,
            "bin_end": 11.2,
            "count": 0
           },
           {
            "bin_start": 11.2,
            "bin_end": 13.5,
            "count": 0
           },
           {
            "bin_start": 13.5,
            "bin_end": 15.799999999999999,
            "count": 0
           },
           {
            "bin_start": 15.799999999999999,
            "bin_end": 18.099999999999998,
            "count": 0
           },
           {
            "bin_start": 18.099999999999998,
            "bin_end": 20.4,
            "count": 0
           },
           {
            "bin_start": 20.4,
            "bin_end": 22.7,
            "count": 0
           },
           {
            "bin_start": 22.7,
            "bin_end": 25,
            "count": 1
           }
          ]
         }
        },
        {
         "name": "Education",
         "dtype": "int64",
         "stats": {
          "unique_count": 3,
          "nan_count": 0,
          "min": "1",
          "max": "3",
          "histogram": [
           {
            "bin_start": 1,
            "bin_end": 1.2,
            "count": 1
           },
           {
            "bin_start": 1.2,
            "bin_end": 1.4,
            "count": 0
           },
           {
            "bin_start": 1.4,
            "bin_end": 1.6,
            "count": 0
           },
           {
            "bin_start": 1.6,
            "bin_end": 1.8,
            "count": 0
           },
           {
            "bin_start": 1.8,
            "bin_end": 2,
            "count": 0
           },
           {
            "bin_start": 2,
            "bin_end": 2.2,
            "count": 2
           },
           {
            "bin_start": 2.2,
            "bin_end": 2.4000000000000004,
            "count": 0
           },
           {
            "bin_start": 2.4000000000000004,
            "bin_end": 2.6,
            "count": 0
           },
           {
            "bin_start": 2.6,
            "bin_end": 2.8,
            "count": 0
           },
           {
            "bin_start": 2.8,
            "bin_end": 3,
            "count": 2
           }
          ]
         }
        },
        {
         "name": "EmployeeNumber",
         "dtype": "int64",
         "stats": {
          "unique_count": 5,
          "nan_count": 0,
          "min": "4",
          "max": "593",
          "histogram": [
           {
            "bin_start": 4,
            "bin_end": 62.9,
            "count": 2
           },
           {
            "bin_start": 62.9,
            "bin_end": 121.8,
            "count": 1
           },
           {
            "bin_start": 121.8,
            "bin_end": 180.7,
            "count": 0
           },
           {
            "bin_start": 180.7,
            "bin_end": 239.6,
            "count": 1
           },
           {
            "bin_start": 239.6,
            "bin_end": 298.5,
            "count": 0
           },
           {
            "bin_start": 298.5,
            "bin_end": 357.4,
            "count": 0
           },
           {
            "bin_start": 357.4,
            "bin_end": 416.3,
            "count": 0
           },
           {
            "bin_start": 416.3,
            "bin_end": 475.2,
            "count": 0
           },
           {
            "bin_start": 475.2,
            "bin_end": 534.1,
            "count": 0
           },
           {
            "bin_start": 534.1,
            "bin_end": 593,
            "count": 1
           }
          ]
         }
        },
        {
         "name": "EnvironmentSatisfaction",
         "dtype": "int64",
         "stats": {
          "unique_count": 4,
          "nan_count": 0,
          "min": "1",
          "max": "4",
          "histogram": [
           {
            "bin_start": 1,
            "bin_end": 1.3,
            "count": 1
           },
           {
            "bin_start": 1.3,
            "bin_end": 1.6,
            "count": 0
           },
           {
            "bin_start": 1.6,
            "bin_end": 1.9,
            "count": 0
           },
           {
            "bin_start": 1.9,
            "bin_end": 2.2,
            "count": 2
           },
           {
            "bin_start": 2.2,
            "bin_end": 2.5,
            "count": 0
           },
           {
            "bin_start": 2.5,
            "bin_end": 2.8,
            "count": 0
           },
           {
            "bin_start": 2.8,
            "bin_end": 3.1,
            "count": 1
           },
           {
            "bin_start": 3.1,
            "bin_end": 3.4,
            "count": 0
           },
           {
            "bin_start": 3.4,
            "bin_end": 3.6999999999999997,
            "count": 0
           },
           {
            "bin_start": 3.6999999999999997,
            "bin_end": 4,
            "count": 1
           }
          ]
         }
        },
        {
         "name": "Gender",
         "dtype": "int64",
         "stats": {
          "unique_count": 2,
          "nan_count": 0,
          "min": "0",
          "max": "1",
          "histogram": [
           {
            "bin_start": 0,
            "bin_end": 0.1,
            "count": 1
           },
           {
            "bin_start": 0.1,
            "bin_end": 0.2,
            "count": 0
           },
           {
            "bin_start": 0.2,
            "bin_end": 0.30000000000000004,
            "count": 0
           },
           {
            "bin_start": 0.30000000000000004,
            "bin_end": 0.4,
            "count": 0
           },
           {
            "bin_start": 0.4,
            "bin_end": 0.5,
            "count": 0
           },
           {
            "bin_start": 0.5,
            "bin_end": 0.6000000000000001,
            "count": 0
           },
           {
            "bin_start": 0.6000000000000001,
            "bin_end": 0.7000000000000001,
            "count": 0
           },
           {
            "bin_start": 0.7000000000000001,
            "bin_end": 0.8,
            "count": 0
           },
           {
            "bin_start": 0.8,
            "bin_end": 0.9,
            "count": 0
           },
           {
            "bin_start": 0.9,
            "bin_end": 1,
            "count": 4
           }
          ]
         }
        },
        {
         "name": "HourlyRate",
         "dtype": "int64",
         "stats": {
          "unique_count": 5,
          "nan_count": 0,
          "min": "43",
          "max": "99",
          "histogram": [
           {
            "bin_start": 43,
            "bin_end": 48.6,
            "count": 2
           },
           {
            "bin_start": 48.6,
            "bin_end": 54.2,
            "count": 0
           },
           {
            "bin_start": 54.2,
            "bin_end": 59.8,
            "count": 0
           },
           {
            "bin_start": 59.8,
            "bin_end": 65.4,
            "count": 0
           },
           {
            "bin_start": 65.4,
            "bin_end": 71,
            "count": 0
           },
           {
            "bin_start": 71,
            "bin_end": 76.6,
            "count": 0
           },
           {
            "bin_start": 76.6,
            "bin_end": 82.19999999999999,
            "count": 1
           },
           {
            "bin_start": 82.19999999999999,
            "bin_end": 87.8,
            "count": 0
           },
           {
            "bin_start": 87.8,
            "bin_end": 93.4,
            "count": 1
           },
           {
            "bin_start": 93.4,
            "bin_end": 99,
            "count": 1
           }
          ]
         }
        },
        {
         "name": "JobInvolvement",
         "dtype": "int64",
         "stats": {
          "unique_count": 3,
          "nan_count": 0,
          "min": "1",
          "max": "3",
          "histogram": [
           {
            "bin_start": 1,
            "bin_end": 1.2,
            "count": 1
           },
           {
            "bin_start": 1.2,
            "bin_end": 1.4,
            "count": 0
           },
           {
            "bin_start": 1.4,
            "bin_end": 1.6,
            "count": 0
           },
           {
            "bin_start": 1.6,
            "bin_end": 1.8,
            "count": 0
           },
           {
            "bin_start": 1.8,
            "bin_end": 2,
            "count": 0
           },
           {
            "bin_start": 2,
            "bin_end": 2.2,
            "count": 2
           },
           {
            "bin_start": 2.2,
            "bin_end": 2.4000000000000004,
            "count": 0
           },
           {
            "bin_start": 2.4000000000000004,
            "bin_end": 2.6,
            "count": 0
           },
           {
            "bin_start": 2.6,
            "bin_end": 2.8,
            "count": 0
           },
           {
            "bin_start": 2.8,
            "bin_end": 3,
            "count": 2
           }
          ]
         }
        },
        {
         "name": "JobLevel",
         "dtype": "int64",
         "stats": {
          "unique_count": 3,
          "nan_count": 0,
          "min": "1",
          "max": "3",
          "histogram": [
           {
            "bin_start": 1,
            "bin_end": 1.2,
            "count": 3
           },
           {
            "bin_start": 1.2,
            "bin_end": 1.4,
            "count": 0
           },
           {
            "bin_start": 1.4,
            "bin_end": 1.6,
            "count": 0
           },
           {
            "bin_start": 1.6,
            "bin_end": 1.8,
            "count": 0
           },
           {
            "bin_start": 1.8,
            "bin_end": 2,
            "count": 0
           },
           {
            "bin_start": 2,
            "bin_end": 2.2,
            "count": 1
           },
           {
            "bin_start": 2.2,
            "bin_end": 2.4000000000000004,
            "count": 0
           },
           {
            "bin_start": 2.4000000000000004,
            "bin_end": 2.6,
            "count": 0
           },
           {
            "bin_start": 2.6,
            "bin_end": 2.8,
            "count": 0
           },
           {
            "bin_start": 2.8,
            "bin_end": 3,
            "count": 1
           }
          ]
         }
        },
        {
         "name": "JobSatisfaction",
         "dtype": "int64",
         "stats": {
          "unique_count": 3,
          "nan_count": 0,
          "min": "2",
          "max": "4",
          "histogram": [
           {
            "bin_start": 2,
            "bin_end": 2.2,
            "count": 1
           },
           {
            "bin_start": 2.2,
            "bin_end": 2.4,
            "count": 0
           },
           {
            "bin_start": 2.4,
            "bin_end": 2.6,
            "count": 0
           },
           {
            "bin_start": 2.6,
            "bin_end": 2.8,
            "count": 0
           },
           {
            "bin_start": 2.8,
            "bin_end": 3,
            "count": 0
           },
           {
            "bin_start": 3,
            "bin_end": 3.2,
            "count": 3
           },
           {
            "bin_start": 3.2,
            "bin_end": 3.4000000000000004,
            "count": 0
           },
           {
            "bin_start": 3.4000000000000004,
            "bin_end": 3.6,
            "count": 0
           },
           {
            "bin_start": 3.6,
            "bin_end": 3.8,
            "count": 0
           },
           {
            "bin_start": 3.8,
            "bin_end": 4,
            "count": 1
           }
          ]
         }
        },
        {
         "name": "MonthlyIncome",
         "dtype": "int64",
         "stats": {
          "unique_count": 5,
          "nan_count": 0,
          "min": "2090",
          "max": "8998",
          "histogram": [
           {
            "bin_start": 2090,
            "bin_end": 2780.8,
            "count": 2
           },
           {
            "bin_start": 2780.8,
            "bin_end": 3471.6,
            "count": 0
           },
           {
            "bin_start": 3471.6,
            "bin_end": 4162.4,
            "count": 1
           },
           {
            "bin_start": 4162.4,
            "bin_end": 4853.2,
            "count": 0
           },
           {
            "bin_start": 4853.2,
            "bin_end": 5544,
            "count": 1
           },
           {
            "bin_start": 5544,
            "bin_end": 6234.799999999999,
            "count": 0
           },
           {
            "bin_start": 6234.799999999999,
            "bin_end": 6925.599999999999,
            "count": 0
           },
           {
            "bin_start": 6925.599999999999,
            "bin_end": 7616.4,
            "count": 0
           },
           {
            "bin_start": 7616.4,
            "bin_end": 8307.2,
            "count": 0
           },
           {
            "bin_start": 8307.2,
            "bin_end": 8998,
            "count": 1
           }
          ]
         }
        },
        {
         "name": "MonthlyRate",
         "dtype": "int64",
         "stats": {
          "unique_count": 5,
          "nan_count": 0,
          "min": "2396",
          "max": "15589",
          "histogram": [
           {
            "bin_start": 2396,
            "bin_end": 3715.3,
            "count": 1
           },
           {
            "bin_start": 3715.3,
            "bin_end": 5034.6,
            "count": 0
           },
           {
            "bin_start": 5034.6,
            "bin_end": 6353.9,
            "count": 0
           },
           {
            "bin_start": 6353.9,
            "bin_end": 7673.2,
            "count": 0
           },
           {
            "bin_start": 7673.2,
            "bin_end": 8992.5,
            "count": 0
           },
           {
            "bin_start": 8992.5,
            "bin_end": 10311.8,
            "count": 1
           },
           {
            "bin_start": 10311.8,
            "bin_end": 11631.1,
            "count": 2
           },
           {
            "bin_start": 11631.1,
            "bin_end": 12950.4,
            "count": 0
           },
           {
            "bin_start": 12950.4,
            "bin_end": 14269.699999999999,
            "count": 0
           },
           {
            "bin_start": 14269.699999999999,
            "bin_end": 15589,
            "count": 1
           }
          ]
         }
        },
        {
         "name": "NumCompaniesWorked",
         "dtype": "int64",
         "stats": {
          "unique_count": 4,
          "nan_count": 0,
          "min": "1",
          "max": "8",
          "histogram": [
           {
            "bin_start": 1,
            "bin_end": 1.7,
            "count": 2
           },
           {
            "bin_start": 1.7,
            "bin_end": 2.4,
            "count": 0
           },
           {
            "bin_start": 2.4,
            "bin_end": 3.0999999999999996,
            "count": 0
           },
           {
            "bin_start": 3.0999999999999996,
            "bin_end": 3.8,
            "count": 0
           },
           {
            "bin_start": 3.8,
            "bin_end": 4.5,
            "count": 0
           },
           {
            "bin_start": 4.5,
            "bin_end": 5.199999999999999,
            "count": 1
           },
           {
            "bin_start": 5.199999999999999,
            "bin_end": 5.8999999999999995,
            "count": 0
           },
           {
            "bin_start": 5.8999999999999995,
            "bin_end": 6.6,
            "count": 1
           },
           {
            "bin_start": 6.6,
            "bin_end": 7.3,
            "count": 0
           },
           {
            "bin_start": 7.3,
            "bin_end": 8,
            "count": 1
           }
          ]
         }
        },
        {
         "name": "OverTime",
         "dtype": "int64",
         "stats": {
          "unique_count": 2,
          "nan_count": 0,
          "min": "0",
          "max": "1",
          "histogram": [
           {
            "bin_start": 0,
            "bin_end": 0.1,
            "count": 3
           },
           {
            "bin_start": 0.1,
            "bin_end": 0.2,
            "count": 0
           },
           {
            "bin_start": 0.2,
            "bin_end": 0.30000000000000004,
            "count": 0
           },
           {
            "bin_start": 0.30000000000000004,
            "bin_end": 0.4,
            "count": 0
           },
           {
            "bin_start": 0.4,
            "bin_end": 0.5,
            "count": 0
           },
           {
            "bin_start": 0.5,
            "bin_end": 0.6000000000000001,
            "count": 0
           },
           {
            "bin_start": 0.6000000000000001,
            "bin_end": 0.7000000000000001,
            "count": 0
           },
           {
            "bin_start": 0.7000000000000001,
            "bin_end": 0.8,
            "count": 0
           },
           {
            "bin_start": 0.8,
            "bin_end": 0.9,
            "count": 0
           },
           {
            "bin_start": 0.9,
            "bin_end": 1,
            "count": 2
           }
          ]
         }
        },
        {
         "name": "PercentSalaryHike",
         "dtype": "int64",
         "stats": {
          "unique_count": 5,
          "nan_count": 0,
          "min": "12",
          "max": "22",
          "histogram": [
           {
            "bin_start": 12,
            "bin_end": 13,
            "count": 1
           },
           {
            "bin_start": 13,
            "bin_end": 14,
            "count": 0
           },
           {
            "bin_start": 14,
            "bin_end": 15,
            "count": 1
           },
           {
            "bin_start": 15,
            "bin_end": 16,
            "count": 1
           },
           {
            "bin_start": 16,
            "bin_end": 17,
            "count": 1
           },
           {
            "bin_start": 17,
            "bin_end": 18,
            "count": 0
           },
           {
            "bin_start": 18,
            "bin_end": 19,
            "count": 0
           },
           {
            "bin_start": 19,
            "bin_end": 20,
            "count": 0
           },
           {
            "bin_start": 20,
            "bin_end": 21,
            "count": 0
           },
           {
            "bin_start": 21,
            "bin_end": 22,
            "count": 1
           }
          ]
         }
        },
        {
         "name": "PerformanceRating",
         "dtype": "int64",
         "stats": {
          "unique_count": 2,
          "nan_count": 0,
          "min": "3",
          "max": "4",
          "histogram": [
           {
            "bin_start": 3,
            "bin_end": 3.1,
            "count": 4
           },
           {
            "bin_start": 3.1,
            "bin_end": 3.2,
            "count": 0
           },
           {
            "bin_start": 3.2,
            "bin_end": 3.3,
            "count": 0
           },
           {
            "bin_start": 3.3,
            "bin_end": 3.4,
            "count": 0
           },
           {
            "bin_start": 3.4,
            "bin_end": 3.5,
            "count": 0
           },
           {
            "bin_start": 3.5,
            "bin_end": 3.6,
            "count": 0
           },
           {
            "bin_start": 3.6,
            "bin_end": 3.7,
            "count": 0
           },
           {
            "bin_start": 3.7,
            "bin_end": 3.8,
            "count": 0
           },
           {
            "bin_start": 3.8,
            "bin_end": 3.9,
            "count": 0
           },
           {
            "bin_start": 3.9,
            "bin_end": 4,
            "count": 1
           }
          ]
         }
        },
        {
         "name": "RelationshipSatisfaction",
         "dtype": "int64",
         "stats": {
          "unique_count": 3,
          "nan_count": 0,
          "min": "2",
          "max": "4",
          "histogram": [
           {
            "bin_start": 2,
            "bin_end": 2.2,
            "count": 1
           },
           {
            "bin_start": 2.2,
            "bin_end": 2.4,
            "count": 0
           },
           {
            "bin_start": 2.4,
            "bin_end": 2.6,
            "count": 0
           },
           {
            "bin_start": 2.6,
            "bin_end": 2.8,
            "count": 0
           },
           {
            "bin_start": 2.8,
            "bin_end": 3,
            "count": 0
           },
           {
            "bin_start": 3,
            "bin_end": 3.2,
            "count": 2
           },
           {
            "bin_start": 3.2,
            "bin_end": 3.4000000000000004,
            "count": 0
           },
           {
            "bin_start": 3.4000000000000004,
            "bin_end": 3.6,
            "count": 0
           },
           {
            "bin_start": 3.6,
            "bin_end": 3.8,
            "count": 0
           },
           {
            "bin_start": 3.8,
            "bin_end": 4,
            "count": 2
           }
          ]
         }
        },
        {
         "name": "StockOptionLevel",
         "dtype": "int64",
         "stats": {
          "unique_count": 2,
          "nan_count": 0,
          "min": "0",
          "max": "1",
          "histogram": [
           {
            "bin_start": 0,
            "bin_end": 0.1,
            "count": 4
           },
           {
            "bin_start": 0.1,
            "bin_end": 0.2,
            "count": 0
           },
           {
            "bin_start": 0.2,
            "bin_end": 0.30000000000000004,
            "count": 0
           },
           {
            "bin_start": 0.30000000000000004,
            "bin_end": 0.4,
            "count": 0
           },
           {
            "bin_start": 0.4,
            "bin_end": 0.5,
            "count": 0
           },
           {
            "bin_start": 0.5,
            "bin_end": 0.6000000000000001,
            "count": 0
           },
           {
            "bin_start": 0.6000000000000001,
            "bin_end": 0.7000000000000001,
            "count": 0
           },
           {
            "bin_start": 0.7000000000000001,
            "bin_end": 0.8,
            "count": 0
           },
           {
            "bin_start": 0.8,
            "bin_end": 0.9,
            "count": 0
           },
           {
            "bin_start": 0.9,
            "bin_end": 1,
            "count": 1
           }
          ]
         }
        },
        {
         "name": "TotalWorkingYears",
         "dtype": "int64",
         "stats": {
          "unique_count": 5,
          "nan_count": 0,
          "min": "1",
          "max": "16",
          "histogram": [
           {
            "bin_start": 1,
            "bin_end": 2.5,
            "count": 1
           },
           {
            "bin_start": 2.5,
            "bin_end": 4,
            "count": 0
           },
           {
            "bin_start": 4,
            "bin_end": 5.5,
            "count": 1
           },
           {
            "bin_start": 5.5,
            "bin_end": 7,
            "count": 0
           },
           {
            "bin_start": 7,
            "bin_end": 8.5,
            "count": 1
           },
           {
            "bin_start": 8.5,
            "bin_end": 10,
            "count": 1
           },
           {
            "bin_start": 10,
            "bin_end": 11.5,
            "count": 0
           },
           {
            "bin_start": 11.5,
            "bin_end": 13,
            "count": 0
           },
           {
            "bin_start": 13,
            "bin_end": 14.5,
            "count": 0
           },
           {
            "bin_start": 14.5,
            "bin_end": 16,
            "count": 1
           }
          ]
         }
        },
        {
         "name": "TrainingTimesLastYear",
         "dtype": "int64",
         "stats": {
          "unique_count": 2,
          "nan_count": 0,
          "min": "2",
          "max": "3",
          "histogram": [
           {
            "bin_start": 2,
            "bin_end": 2.1,
            "count": 3
           },
           {
            "bin_start": 2.1,
            "bin_end": 2.2,
            "count": 0
           },
           {
            "bin_start": 2.2,
            "bin_end": 2.3,
            "count": 0
           },
           {
            "bin_start": 2.3,
            "bin_end": 2.4,
            "count": 0
           },
           {
            "bin_start": 2.4,
            "bin_end": 2.5,
            "count": 0
           },
           {
            "bin_start": 2.5,
            "bin_end": 2.6,
            "count": 0
           },
           {
            "bin_start": 2.6,
            "bin_end": 2.7,
            "count": 0
           },
           {
            "bin_start": 2.7,
            "bin_end": 2.8,
            "count": 0
           },
           {
            "bin_start": 2.8,
            "bin_end": 2.9,
            "count": 0
           },
           {
            "bin_start": 2.9,
            "bin_end": 3,
            "count": 2
           }
          ]
         }
        },
        {
         "name": "WorkLifeBalance",
         "dtype": "int64",
         "stats": {
          "unique_count": 2,
          "nan_count": 0,
          "min": "2",
          "max": "3",
          "histogram": [
           {
            "bin_start": 2,
            "bin_end": 2.1,
            "count": 1
           },
           {
            "bin_start": 2.1,
            "bin_end": 2.2,
            "count": 0
           },
           {
            "bin_start": 2.2,
            "bin_end": 2.3,
            "count": 0
           },
           {
            "bin_start": 2.3,
            "bin_end": 2.4,
            "count": 0
           },
           {
            "bin_start": 2.4,
            "bin_end": 2.5,
            "count": 0
           },
           {
            "bin_start": 2.5,
            "bin_end": 2.6,
            "count": 0
           },
           {
            "bin_start": 2.6,
            "bin_end": 2.7,
            "count": 0
           },
           {
            "bin_start": 2.7,
            "bin_end": 2.8,
            "count": 0
           },
           {
            "bin_start": 2.8,
            "bin_end": 2.9,
            "count": 0
           },
           {
            "bin_start": 2.9,
            "bin_end": 3,
            "count": 4
           }
          ]
         }
        },
        {
         "name": "YearsAtCompany",
         "dtype": "int64",
         "stats": {
          "unique_count": 5,
          "nan_count": 0,
          "min": "0",
          "max": "9",
          "histogram": [
           {
            "bin_start": 0,
            "bin_end": 0.9,
            "count": 1
           },
           {
            "bin_start": 0.9,
            "bin_end": 1.8,
            "count": 1
           },
           {
            "bin_start": 1.8,
            "bin_end": 2.7,
            "count": 1
           },
           {
            "bin_start": 2.7,
            "bin_end": 3.6,
            "count": 0
           },
           {
            "bin_start": 3.6,
            "bin_end": 4.5,
            "count": 1
           },
           {
            "bin_start": 4.5,
            "bin_end": 5.4,
            "count": 0
           },
           {
            "bin_start": 5.4,
            "bin_end": 6.3,
            "count": 0
           },
           {
            "bin_start": 6.3,
            "bin_end": 7.2,
            "count": 0
           },
           {
            "bin_start": 7.2,
            "bin_end": 8.1,
            "count": 0
           },
           {
            "bin_start": 8.1,
            "bin_end": 9,
            "count": 1
           }
          ]
         }
        },
        {
         "name": "YearsInCurrentRole",
         "dtype": "int64",
         "stats": {
          "unique_count": 3,
          "nan_count": 0,
          "min": "0",
          "max": "8",
          "histogram": [
           {
            "bin_start": 0,
            "bin_end": 0.8,
            "count": 2
           },
           {
            "bin_start": 0.8,
            "bin_end": 1.6,
            "count": 0
           },
           {
            "bin_start": 1.6,
            "bin_end": 2.4000000000000004,
            "count": 2
           },
           {
            "bin_start": 2.4000000000000004,
            "bin_end": 3.2,
            "count": 0
           },
           {
            "bin_start": 3.2,
            "bin_end": 4,
            "count": 0
           },
           {
            "bin_start": 4,
            "bin_end": 4.800000000000001,
            "count": 0
           },
           {
            "bin_start": 4.800000000000001,
            "bin_end": 5.6000000000000005,
            "count": 0
           },
           {
            "bin_start": 5.6000000000000005,
            "bin_end": 6.4,
            "count": 0
           },
           {
            "bin_start": 6.4,
            "bin_end": 7.2,
            "count": 0
           },
           {
            "bin_start": 7.2,
            "bin_end": 8,
            "count": 1
           }
          ]
         }
        },
        {
         "name": "YearsSinceLastPromotion",
         "dtype": "int64",
         "stats": {
          "unique_count": 3,
          "nan_count": 0,
          "min": "0",
          "max": "3",
          "histogram": [
           {
            "bin_start": 0,
            "bin_end": 0.3,
            "count": 3
           },
           {
            "bin_start": 0.3,
            "bin_end": 0.6,
            "count": 0
           },
           {
            "bin_start": 0.6,
            "bin_end": 0.8999999999999999,
            "count": 0
           },
           {
            "bin_start": 0.8999999999999999,
            "bin_end": 1.2,
            "count": 1
           },
           {
            "bin_start": 1.2,
            "bin_end": 1.5,
            "count": 0
           },
           {
            "bin_start": 1.5,
            "bin_end": 1.7999999999999998,
            "count": 0
           },
           {
            "bin_start": 1.7999999999999998,
            "bin_end": 2.1,
            "count": 0
           },
           {
            "bin_start": 2.1,
            "bin_end": 2.4,
            "count": 0
           },
           {
            "bin_start": 2.4,
            "bin_end": 2.6999999999999997,
            "count": 0
           },
           {
            "bin_start": 2.6999999999999997,
            "bin_end": 3,
            "count": 1
           }
          ]
         }
        },
        {
         "name": "YearsWithCurrManager",
         "dtype": "int64",
         "stats": {
          "unique_count": 4,
          "nan_count": 0,
          "min": "0",
          "max": "7",
          "histogram": [
           {
            "bin_start": 0,
            "bin_end": 0.7,
            "count": 1
           },
           {
            "bin_start": 0.7,
            "bin_end": 1.4,
            "count": 1
           },
           {
            "bin_start": 1.4,
            "bin_end": 2.0999999999999996,
            "count": 2
           },
           {
            "bin_start": 2.0999999999999996,
            "bin_end": 2.8,
            "count": 0
           },
           {
            "bin_start": 2.8,
            "bin_end": 3.5,
            "count": 0
           },
           {
            "bin_start": 3.5,
            "bin_end": 4.199999999999999,
            "count": 0
           },
           {
            "bin_start": 4.199999999999999,
            "bin_end": 4.8999999999999995,
            "count": 0
           },
           {
            "bin_start": 4.8999999999999995,
            "bin_end": 5.6,
            "count": 0
           },
           {
            "bin_start": 5.6,
            "bin_end": 6.3,
            "count": 0
           },
           {
            "bin_start": 6.3,
            "bin_end": 7,
            "count": 1
           }
          ]
         }
        },
        {
         "name": "_deepnote_index_column",
         "dtype": "int64"
        }
       ],
       "rows": [
        {
         "Age": 37,
         "Attrition": 1,
         "BusinessTravel": 1,
         "DailyRate": 1373,
         "DistanceFromHome": 2,
         "Education": 2,
         "EmployeeNumber": 4,
         "EnvironmentSatisfaction": 4,
         "Gender": 1,
         "HourlyRate": 92,
         "JobInvolvement": 2,
         "JobLevel": 1,
         "JobSatisfaction": 3,
         "MonthlyIncome": 2090,
         "MonthlyRate": 2396,
         "NumCompaniesWorked": 6,
         "OverTime": 1,
         "PercentSalaryHike": 15,
         "PerformanceRating": 3,
         "RelationshipSatisfaction": 2,
         "StockOptionLevel": 0,
         "TotalWorkingYears": 7,
         "TrainingTimesLastYear": 3,
         "WorkLifeBalance": 3,
         "YearsAtCompany": 0,
         "YearsInCurrentRole": 0,
         "YearsSinceLastPromotion": 0,
         "YearsWithCurrManager": 0,
         "_deepnote_index_column": 0
        },
        {
         "Age": 22,
         "Attrition": 1,
         "BusinessTravel": 2,
         "DailyRate": 1368,
         "DistanceFromHome": 4,
         "Education": 1,
         "EmployeeNumber": 593,
         "EnvironmentSatisfaction": 3,
         "Gender": 1,
         "HourlyRate": 99,
         "JobInvolvement": 2,
         "JobLevel": 1,
         "JobSatisfaction": 3,
         "MonthlyIncome": 3894,
         "MonthlyRate": 9129,
         "NumCompaniesWorked": 5,
         "OverTime": 0,
         "PercentSalaryHike": 16,
         "PerformanceRating": 3,
         "RelationshipSatisfaction": 3,
         "StockOptionLevel": 0,
         "TotalWorkingYears": 4,
         "TrainingTimesLastYear": 3,
         "WorkLifeBalance": 3,
         "YearsAtCompany": 2,
         "YearsInCurrentRole": 2,
         "YearsSinceLastPromotion": 1,
         "YearsWithCurrManager": 2,
         "_deepnote_index_column": 1
        },
        {
         "Age": 26,
         "Attrition": 1,
         "BusinessTravel": 1,
         "DailyRate": 1357,
         "DistanceFromHome": 25,
         "Education": 3,
         "EmployeeNumber": 55,
         "EnvironmentSatisfaction": 1,
         "Gender": 1,
         "HourlyRate": 48,
         "JobInvolvement": 1,
         "JobLevel": 1,
         "JobSatisfaction": 3,
         "MonthlyIncome": 2293,
         "MonthlyRate": 10558,
         "NumCompaniesWorked": 1,
         "OverTime": 0,
         "PercentSalaryHike": 12,
         "PerformanceRating": 3,
         "RelationshipSatisfaction": 3,
         "StockOptionLevel": 0,
         "TotalWorkingYears": 1,
         "TrainingTimesLastYear": 2,
         "WorkLifeBalance": 2,
         "YearsAtCompany": 1,
         "YearsInCurrentRole": 0,
         "YearsSinceLastPromotion": 0,
         "YearsWithCurrManager": 1,
         "_deepnote_index_column": 2
        },
        {
         "Age": 46,
         "Attrition": 0,
         "BusinessTravel": 1,
         "DailyRate": 945,
         "DistanceFromHome": 5,
         "Education": 2,
         "EmployeeNumber": 103,
         "EnvironmentSatisfaction": 2,
         "Gender": 1,
         "HourlyRate": 80,
         "JobInvolvement": 3,
         "JobLevel": 2,
         "JobSatisfaction": 2,
         "MonthlyIncome": 5021,
         "MonthlyRate": 10425,
         "NumCompaniesWorked": 8,
         "OverTime": 1,
         "PercentSalaryHike": 22,
         "PerformanceRating": 4,
         "RelationshipSatisfaction": 4,
         "StockOptionLevel": 1,
         "TotalWorkingYears": 16,
         "TrainingTimesLastYear": 2,
         "WorkLifeBalance": 3,
         "YearsAtCompany": 4,
         "YearsInCurrentRole": 2,
         "YearsSinceLastPromotion": 0,
         "YearsWithCurrManager": 2,
         "_deepnote_index_column": 3
        },
        {
         "Age": 32,
         "Attrition": 0,
         "BusinessTravel": 2,
         "DailyRate": 967,
         "DistanceFromHome": 8,
         "Education": 3,
         "EmployeeNumber": 207,
         "EnvironmentSatisfaction": 2,
         "Gender": 0,
         "HourlyRate": 43,
         "JobInvolvement": 3,
         "JobLevel": 3,
         "JobSatisfaction": 4,
         "MonthlyIncome": 8998,
         "MonthlyRate": 15589,
         "NumCompaniesWorked": 1,
         "OverTime": 0,
         "PercentSalaryHike": 14,
         "PerformanceRating": 3,
         "RelationshipSatisfaction": 4,
         "StockOptionLevel": 0,
         "TotalWorkingYears": 9,
         "TrainingTimesLastYear": 2,
         "WorkLifeBalance": 3,
         "YearsAtCompany": 9,
         "YearsInCurrentRole": 8,
         "YearsSinceLastPromotion": 3,
         "YearsWithCurrManager": 7,
         "_deepnote_index_column": 4
        }
       ]
      },
      "text/plain": "   Age  Attrition  BusinessTravel  DailyRate  DistanceFromHome  Education  \\\n0   37          1               1       1373                 2          2   \n1   22          1               2       1368                 4          1   \n2   26          1               1       1357                25          3   \n3   46          0               1        945                 5          2   \n4   32          0               2        967                 8          3   \n\n   EmployeeNumber  EnvironmentSatisfaction  Gender  HourlyRate  ...  \\\n0               4                        4       1          92  ...   \n1             593                        3       1          99  ...   \n2              55                        1       1          48  ...   \n3             103                        2       1          80  ...   \n4             207                        2       0          43  ...   \n\n   PerformanceRating  RelationshipSatisfaction  StockOptionLevel  \\\n0                  3                         2                 0   \n1                  3                         3                 0   \n2                  3                         3                 0   \n3                  4                         4                 1   \n4                  3                         4                 0   \n\n   TotalWorkingYears  TrainingTimesLastYear  WorkLifeBalance  YearsAtCompany  \\\n0                  7                      3                3               0   \n1                  4                      3                3               2   \n2                  1                      2                2               1   \n3                 16                      2                3               4   \n4                  9                      2                3               9   \n\n   YearsInCurrentRole  YearsSinceLastPromotion  YearsWithCurrManager  \n0                   0                        0                     0  \n1                   2                        1                     2  \n2                   0                        0                     1  \n3                   2                        0                     2  \n4                   8                        3                     7  \n\n[5 rows x 28 columns]",
      "text/html": "<div>\n<style scoped>\n    .dataframe tbody tr th:only-of-type {\n        vertical-align: middle;\n    }\n\n    .dataframe tbody tr th {\n        vertical-align: top;\n    }\n\n    .dataframe thead th {\n        text-align: right;\n    }\n</style>\n<table border=\"1\" class=\"dataframe\">\n  <thead>\n    <tr style=\"text-align: right;\">\n      <th></th>\n      <th>Age</th>\n      <th>Attrition</th>\n      <th>BusinessTravel</th>\n      <th>DailyRate</th>\n      <th>DistanceFromHome</th>\n      <th>Education</th>\n      <th>EmployeeNumber</th>\n      <th>EnvironmentSatisfaction</th>\n      <th>Gender</th>\n      <th>HourlyRate</th>\n      <th>...</th>\n      <th>PerformanceRating</th>\n      <th>RelationshipSatisfaction</th>\n      <th>StockOptionLevel</th>\n      <th>TotalWorkingYears</th>\n      <th>TrainingTimesLastYear</th>\n      <th>WorkLifeBalance</th>\n      <th>YearsAtCompany</th>\n      <th>YearsInCurrentRole</th>\n      <th>YearsSinceLastPromotion</th>\n      <th>YearsWithCurrManager</th>\n    </tr>\n  </thead>\n  <tbody>\n    <tr>\n      <th>0</th>\n      <td>37</td>\n      <td>1</td>\n      <td>1</td>\n      <td>1373</td>\n      <td>2</td>\n      <td>2</td>\n      <td>4</td>\n      <td>4</td>\n      <td>1</td>\n      <td>92</td>\n      <td>...</td>\n      <td>3</td>\n      <td>2</td>\n      <td>0</td>\n      <td>7</td>\n      <td>3</td>\n      <td>3</td>\n      <td>0</td>\n      <td>0</td>\n      <td>0</td>\n      <td>0</td>\n    </tr>\n    <tr>\n      <th>1</th>\n      <td>22</td>\n      <td>1</td>\n      <td>2</td>\n      <td>1368</td>\n      <td>4</td>\n      <td>1</td>\n      <td>593</td>\n      <td>3</td>\n      <td>1</td>\n      <td>99</td>\n      <td>...</td>\n      <td>3</td>\n      <td>3</td>\n      <td>0</td>\n      <td>4</td>\n      <td>3</td>\n      <td>3</td>\n      <td>2</td>\n      <td>2</td>\n      <td>1</td>\n      <td>2</td>\n    </tr>\n    <tr>\n      <th>2</th>\n      <td>26</td>\n      <td>1</td>\n      <td>1</td>\n      <td>1357</td>\n      <td>25</td>\n      <td>3</td>\n      <td>55</td>\n      <td>1</td>\n      <td>1</td>\n      <td>48</td>\n      <td>...</td>\n      <td>3</td>\n      <td>3</td>\n      <td>0</td>\n      <td>1</td>\n      <td>2</td>\n      <td>2</td>\n      <td>1</td>\n      <td>0</td>\n      <td>0</td>\n      <td>1</td>\n    </tr>\n    <tr>\n      <th>3</th>\n      <td>46</td>\n      <td>0</td>\n      <td>1</td>\n      <td>945</td>\n      <td>5</td>\n      <td>2</td>\n      <td>103</td>\n      <td>2</td>\n      <td>1</td>\n      <td>80</td>\n      <td>...</td>\n      <td>4</td>\n      <td>4</td>\n      <td>1</td>\n      <td>16</td>\n      <td>2</td>\n      <td>3</td>\n      <td>4</td>\n      <td>2</td>\n      <td>0</td>\n      <td>2</td>\n    </tr>\n    <tr>\n      <th>4</th>\n      <td>32</td>\n      <td>0</td>\n      <td>2</td>\n      <td>967</td>\n      <td>8</td>\n      <td>3</td>\n      <td>207</td>\n      <td>2</td>\n      <td>0</td>\n      <td>43</td>\n      <td>...</td>\n      <td>3</td>\n      <td>4</td>\n      <td>0</td>\n      <td>9</td>\n      <td>2</td>\n      <td>3</td>\n      <td>9</td>\n      <td>8</td>\n      <td>3</td>\n      <td>7</td>\n    </tr>\n  </tbody>\n</table>\n<p>5 rows × 28 columns</p>\n</div>"
     },
     "metadata": {}
    }
   ]
  },
  {
   "cell_type": "markdown",
   "source": "## Análisis básico de comparación ",
   "metadata": {
    "cell_id": "90ac0e10-54dc-4dad-948b-d20e999b4134",
    "tags": [],
    "deepnote_cell_type": "markdown",
    "deepnote_cell_height": 70
   }
  },
  {
   "cell_type": "code",
   "metadata": {
    "cell_id": "5d122632-06da-4afd-884e-944577830af5",
    "tags": [],
    "deepnote_to_be_reexecuted": false,
    "source_hash": "227a02c2",
    "execution_start": 1647107030948,
    "execution_millis": 497,
    "deepnote_cell_type": "code",
    "deepnote_cell_height": 685.1875,
    "deepnote_output_heights": [
     null,
     482
    ]
   },
   "source": "fig, ax=plt.subplots(1,3, figsize=(18,8))\nsns.boxplot(y='Age', x='Attrition', data=df_HR_sample, ax=ax[0])\nsns.boxplot(y='MonthlyIncome', x ='Attrition', data = df_HR_sample, ax=ax[1])\nsns.boxplot(y='YearsAtCompany', x='Attrition', data=df_HR_sample, ax=ax[2])",
   "execution_count": null,
   "outputs": [
    {
     "output_type": "execute_result",
     "execution_count": 8,
     "data": {
      "text/plain": "<AxesSubplot:xlabel='Attrition', ylabel='YearsAtCompany'>"
     },
     "metadata": {}
    },
    {
     "data": {
      "text/plain": "<Figure size 1296x576 with 3 Axes>",
      "image/png": "[encoded data removed]"
     },
     "metadata": {
      "needs_background": "light",
      "image/png": {
       "width": 1052,
       "height": 480
      }
     },
     "output_type": "display_data"
    }
   ]
  },
  {
   "cell_type": "markdown",
   "source": "## Modelos de Clasificación",
   "metadata": {
    "cell_id": "3e074fbc-bfa1-44f6-ba87-5f2547588800",
    "tags": [],
    "deepnote_cell_type": "markdown",
    "deepnote_cell_height": 70
   }
  },
  {
   "cell_type": "markdown",
   "source": "\n### Aprendizaje supervisado\n\nEl aprendizaje supervisado generalmente se realiza en el contexto de la clasificación, cuando queremos asignar entradas a etiquetas de salida, o regresión, cuando queremos asignar entradas a una salida continua. <figure>\n<img src=\"/work/Modulo3_Caso5/fig/Supervised_Learning.png\" align=\"center\"/> \n</figure> \n\nEl objetivo es encontrar relaciones o estructuras específicas en los datos de entrada que nos permitan producir de manera efectiva datos de salida correctos.<figure>\n<img src=\"/work/Modulo3_Caso5/fig/supervised-machine-learning.png\" align=\"center\"/> \n</figure> \n\n\nhttps://towardsdatascience.com/supervised-vs-unsupervised-learning-14f68e32ea8d\n",
   "metadata": {
    "tags": [],
    "cell_id": "00018-db2c8a2a-04aa-43e3-a27d-3afe5af0fe49",
    "deepnote_cell_type": "markdown",
    "deepnote_cell_height": 1031.09375
   }
  },
  {
   "cell_type": "markdown",
   "source": "### Medidas de desempeño para modelos de Clasificación\n\nLas métricas utilizadas en los problemas de clasificación difieren mucho entre sí en su intención. Para definir la forma de calcular cada matriz, examinemos primero la **matriz de confusión**. Esta matriz permite visualizar las clasificaciones correctas e incorrectas que resultan de nuestro modelo.\n\n<center>\n<table>\n    <thead>\n        <tr>\n            <th></th>\n            <th></th>\n            <th colspan=2 ><center>Valores reales </center></th>\n        </tr>\n        <tr>\n            <th></th>\n            <th></th>\n            <th><center>Negativo (0)</th>\n            <th><center>Positivo (1)</th>\n        </tr>\n    </thead>\n    <tbody>\n        <tr>\n            <td rowspan=2><b>Valores pronosticados </b></td>\n            <td><center><b>Negativo (0)</td>\n            <td><center>Verdaderos negativos (TN)</td>\n            <td><center>Falsos negativos (FN)</td>\n        </tr>\n        <tr>\n            <td><center><b>Positivo (1)</td>\n            <td><center>Falsos positivos (FP)</td>\n            <td><center>Verdaderos positivos (TP)</td>\n    </tbody>\n</table>\n</center>\n\nComo se puede observar, se desea que la mayoría de los valores de la muestra caigan sobre los valores de la diagonal de la matriz, ya que eso significaría que la mayoría de las observaciones de la muestra se clasificaron correctamente. Usando la notación presente en la matriz de confusión, echemos un vistazo a las diferentes métricas de rendimiento que se pueden usar para problemas de clasificación.\n\nLa primera métrica es muy básica, la **precisión** del modelo. La precisión mide la proporción de observaciones que se clasificaron correctamente: <center> $\\text{Exactitud}= \\frac{TP+TN}{TP+FP+TN+FN}$ </center>\n\nLa precisión es simple de calcular pero tiene sus propias desventajas. Si el conjunto de datos está muy desequilibrado y el modelo clasifica todos los puntos de datos como puntos de datos de clase mayoritaria, la precisión será alta. Esto hace que la precisión no sea una métrica de rendimiento fiable para los datos desequilibrados. Por ejemplo, si el 90 % de los datos fueran positivos, un clasificador que prediga todas las observaciones como positivas tendría una precisión del 90 %, pero esto no significaría que el clasificador sea bueno.\n\nLa segunda métrica es la **precisión**. La precisión mide la proporción de observaciones predichas como positivas que se clasificaron correctamente. La precisión se calcula de la siguiente manera: <center> $\\text{Precisión}= \\frac{TP}{TP+FP}$ </center>\n\nSi su problema de clasificación es uno en el que es realmente importante que las observaciones clasificadas como positivas sean realmente positivas, entonces la puntuación de precisión podría ser la métrica más relevante para medir el rendimiento del modelo de clasificación. Un ejemplo de un problema en el que la puntuación de precisión es realmente importante es aquel en el que el objetivo es clasificar a las personas enjuiciadas como culpables o no; en este problema se quiere que las personas clasificadas como culpables sean verdaderamente culpables.\n\nLa tercera métrica es el **recuerdo**. Recall mide la proporción de positivos que se clasificaron correctamente. La recuperación se calcula de la siguiente manera: <center> $\\text{Recall}= \\frac{TP}{TP+FN}$ </center>\n\nSi su problema de clasificación es uno en el que es mucho más importante clasificar correctamente los aspectos positivos, entonces la puntuación de recuperación podría ser la métrica más relevante para medir el rendimiento del modelo de clasificación. Un ejemplo de un problema en el que el recuerdo podría ser una métrica muy importante es uno en el que las personas deben clasificarse como si tuvieran o no covid; en este problema se quiere que la mayoría de las personas que tienen covid estén correctamente clasificadas.\n\nLa cuarta métrica es la **puntuación f1**. La puntuación f1 es la media armónica de la recuperación y la precisión del modelo. El f1 socre se calcula de la siguiente manera: <center> $f_1= \\frac{2precision*recall}{precision+recall}$ </center>",
   "metadata": {
    "cell_id": "25719001-7977-471a-bb82-d09b8d669fe6",
    "tags": [],
    "deepnote_cell_type": "markdown",
    "deepnote_cell_height": 1041
   }
  },
  {
   "cell_type": "markdown",
   "source": "### Consideraciones de ajuste los modelos\n\n#### p-value\nProbailidad de obtener una observación más extrema que las que ya observamos. Me ayuda a determinar pruebas de hipótesis\n\n\n#### Significancia ($\\alpha$)\nDetermina el nivel de error que estamos dispuesto a asumir\n\n<center>\n\n$\\alpha = Error\\,Tipo \\,1 = Probabilidad\\, de  \\,falso \\, negativo $\n\n</center>\n\nNormalmente definimos $\\alpha = 5\\% = 0.05 $\n\n#### $R-cuadrado$\nsu cantidad siempre va a estar entre 0 y 1. Cuanto mayor sea el $R^2$, mayor será el porcentaje de variación observada que puede ser explicado por el modelo\n",
   "metadata": {
    "cell_id": "c5680e8c-f6fe-485c-9879-bfbe455ace70",
    "tags": [],
    "deepnote_cell_type": "markdown",
    "deepnote_cell_height": 381.21875
   }
  },
  {
   "cell_type": "markdown",
   "source": "## Regresión logística\n\nConsidere un problema en el que una persona debe clasificarse como si entrará en incumplimiento (no poder pagar una deuda) o no, en función del saldo de la deuda. En este problema, la variable de respuesta $Y$ se puede codificar de la siguiente manera:<center> $\nY = \\left\\{\n    \\begin{matrix}\n        0, \\ \\text {Si \\ no \\ cumple} \\\\\n        1, \\ \\text {Si \\ cumple} \\\\\n    \\end{matrix}\n\\right.\n$ </center>\n\nCon el fin de realizar la clasificación, se ajusta el un modelo de la siguiente forma a los datos:<center> $log(\\frac{p(X)}{1-p(X)})= \\beta_0 + X\\beta$ </center>\n\nSi $\\beta_1$ es positivo, el aumento de $x_1$ se asociará con un aumento de $p(X)$, y si $\\beta_1$ es negativo, el aumento de $x_1$ se asociará con una disminución de\n$p(X)$.\n",
   "metadata": {
    "tags": [],
    "cell_id": "00024-987f5f69-c1a2-4b85-962f-9c0439e16f13",
    "deepnote_cell_type": "markdown",
    "deepnote_cell_height": 321.53125
   }
  },
  {
   "cell_type": "markdown",
   "source": "## Train - Test Split\n\nEl 20 % de los datos se reserva para evaluar el rendimiento del modelo en datos en los que el modelo no ha sido entrenado. Esto con el fin de garantizar que no se compruebe el funcionamiento del modelo con las mismas condiciones con las que fue entrenado. ",
   "metadata": {
    "cell_id": "43d88403-8d74-451e-9e2c-a3e14f9c3073",
    "tags": [],
    "deepnote_cell_type": "markdown",
    "deepnote_cell_height": 130.796875
   }
  },
  {
   "cell_type": "code",
   "metadata": {
    "cell_id": "149c6060-d700-4a53-a289-77cc53d38b36",
    "tags": [],
    "deepnote_to_be_reexecuted": false,
    "source_hash": "d1f9a41d",
    "execution_start": 1647107031450,
    "execution_millis": 4,
    "deepnote_cell_type": "code",
    "deepnote_cell_height": 258.375
   },
   "source": "np.random.seed(135568109) \nndata = len(df_HR_sample_LR)\nidx_train = np.random.choice(range(ndata),int(0.8*ndata),replace=False)\nidx_test  = np.asarray(list(set(range(ndata)) - set(idx_train)))\ntrain     = df_HR_sample_LR.iloc[idx_train] \ntest      = df_HR_sample_LR.iloc[idx_test]  \nprint(train.shape) \nprint(test.shape)  ",
   "execution_count": null,
   "outputs": [
    {
     "name": "stdout",
     "text": "(429, 28)\n(108, 28)\n",
     "output_type": "stream"
    }
   ]
  },
  {
   "cell_type": "markdown",
   "source": "## Ejercicio 1\n\nDetermine si un modelo con solo las variables `edad` y `Educación` es significativo para determinar si una persona se va a ir de la empresa. ¿Qué puede concluir al respecto?",
   "metadata": {
    "cell_id": "7b909219-90e3-4e1c-9f6a-fa180913fed8",
    "tags": [],
    "deepnote_cell_type": "markdown",
    "deepnote_cell_height": 130.796875
   }
  },
  {
   "cell_type": "code",
   "metadata": {
    "cell_id": "74d04e36-164c-420f-8b61-a3a2a0d30f63",
    "tags": [],
    "deepnote_to_be_reexecuted": false,
    "source_hash": "fb8fa769",
    "execution_start": 1647107031504,
    "execution_millis": 3,
    "deepnote_cell_type": "code",
    "deepnote_cell_height": 617.375
   },
   "source": "#Definition of input variables\nX_1 = train[['Age','Education']]\n#Definition of output variable\ny_1 = train['Attrition']\n\n#Building the model and fitting the data\nlog_reg_1 = sm.Logit(y_1, X_1).fit()\n\n#Printing the summary table\nprint(log_reg_1.summary())",
   "execution_count": null,
   "outputs": [
    {
     "name": "stdout",
     "text": "Optimization terminated successfully.\n         Current function value: 0.684015\n         Iterations 4\n                           Logit Regression Results                           \n==============================================================================\nDep. Variable:              Attrition   No. Observations:                  429\nModel:                          Logit   Df Residuals:                      427\nMethod:                           MLE   Df Model:                            1\nDate:                Sat, 12 Mar 2022   Pseudo R-squ.:                0.007844\nTime:                        17:43:51   Log-Likelihood:                -293.44\nconverged:                       True   LL-Null:                       -295.76\nCovariance Type:            nonrobust   LLR p-value:                   0.03124\n==============================================================================\n                 coef    std err          z      P>|z|      [0.025      0.975]\n------------------------------------------------------------------------------\nAge           -0.0149      0.008     -1.960      0.050      -0.030   -6.67e-07\nEducation      0.1016      0.089      1.142      0.253      -0.073       0.276\n==============================================================================\n",
     "output_type": "stream"
    }
   ]
  },
  {
   "cell_type": "markdown",
   "source": "**Respuesta**",
   "metadata": {
    "cell_id": "66855d48-257d-4701-b9e3-4ecd207dff75",
    "tags": [],
    "deepnote_cell_type": "markdown",
    "deepnote_cell_height": 52.390625
   }
  },
  {
   "cell_type": "markdown",
   "source": "## Ejercicio 2\n\n¿Qué variables consideraría que deberían ser importantes en la construcción de un modelo para determinar si una persona se va a ir de la empresa? Ejecute un modelo para verificar su hipótesis. ¿Qué puedes concluir al respecto?",
   "metadata": {
    "cell_id": "1cd0a501-79b8-42a0-bdb9-38b9141a4a2d",
    "tags": [],
    "deepnote_cell_type": "markdown",
    "deepnote_cell_height": 130.796875
   }
  },
  {
   "cell_type": "markdown",
   "source": "**Respuesta**",
   "metadata": {
    "cell_id": "e161caa2-4759-4c0d-9be1-0c1018fbe098",
    "tags": [],
    "deepnote_cell_type": "markdown",
    "deepnote_cell_height": 52.390625
   }
  },
  {
   "cell_type": "code",
   "metadata": {
    "cell_id": "7c324c07-4eee-49ec-a716-85be3b82a448",
    "tags": [],
    "deepnote_to_be_reexecuted": false,
    "source_hash": "e72482ec",
    "execution_start": 1647107031505,
    "execution_millis": 44,
    "deepnote_cell_type": "code",
    "deepnote_cell_height": 597.1875
   },
   "source": "#Definition of input variables\nX_2 = train[['YearsAtCompany']]\n#Definition of output variable\ny_2 = train['Attrition']\n\n#Building the model and fitting the data\nlog_reg_2 = sm.Logit(y_2, X_2).fit()\n\n#Printing the summary table\nprint(log_reg_2.summary())",
   "execution_count": null,
   "outputs": [
    {
     "name": "stdout",
     "text": "Optimization terminated successfully.\n         Current function value: 0.667466\n         Iterations 5\n                           Logit Regression Results                           \n==============================================================================\nDep. Variable:              Attrition   No. Observations:                  429\nModel:                          Logit   Df Residuals:                      428\nMethod:                           MLE   Df Model:                            0\nDate:                Sat, 12 Mar 2022   Pseudo R-squ.:                 0.03185\nTime:                        17:43:51   Log-Likelihood:                -286.34\nconverged:                       True   LL-Null:                       -295.76\nCovariance Type:            nonrobust   LLR p-value:                       nan\n==================================================================================\n                     coef    std err          z      P>|z|      [0.025      0.975]\n----------------------------------------------------------------------------------\nYearsAtCompany    -0.0533      0.012     -4.402      0.000      -0.077      -0.030\n==================================================================================\n",
     "output_type": "stream"
    }
   ]
  },
  {
   "cell_type": "markdown",
   "source": "## Ejercicio 3\nEjecute un modelo que contenga todas las variables en el conjunto de datos. Qué variables siguen siendo relevantes para determinar si una persona se va a ir de la empresa. ¿Qué puedes concluir al respecto?",
   "metadata": {
    "cell_id": "7524c984-1591-41b9-bc81-53885386470c",
    "tags": [],
    "deepnote_cell_type": "markdown",
    "deepnote_cell_height": 130.796875
   }
  },
  {
   "cell_type": "markdown",
   "source": "**Respuesta**",
   "metadata": {
    "cell_id": "1d5e3e1f-069f-403e-988c-27e9292e61f4",
    "tags": [],
    "deepnote_cell_type": "markdown",
    "deepnote_cell_height": 52.390625
   }
  },
  {
   "cell_type": "code",
   "metadata": {
    "cell_id": "df6e9f28-7852-44e8-be56-1b70be0c7cfa",
    "tags": [],
    "deepnote_to_be_reexecuted": false,
    "source_hash": "3bac0d6c",
    "execution_start": 1647107031548,
    "execution_millis": 23,
    "deepnote_cell_type": "code",
    "deepnote_cell_height": 863
   },
   "source": "#Definition of input variables\nX_3 = train.drop(columns='Attrition')\n#Definition of output variable\ny_3 = train['Attrition']\n\n#Building the model and fitting the data\nlog_reg_3 = sm.Logit(y_3, X_3).fit()\n\n#Printing the summary table\nprint(log_reg_3.summary())",
   "execution_count": null,
   "outputs": [
    {
     "name": "stdout",
     "text": "Optimization terminated successfully.\n         Current function value: 0.485094\n         Iterations 6\n                           Logit Regression Results                           \n==============================================================================\nDep. Variable:              Attrition   No. Observations:                  429\nModel:                          Logit   Df Residuals:                      402\nMethod:                           MLE   Df Model:                           26\nDate:                Sat, 12 Mar 2022   Pseudo R-squ.:                  0.2964\nTime:                        17:43:51   Log-Likelihood:                -208.11\nconverged:                       True   LL-Null:                       -295.76\nCovariance Type:            nonrobust   LLR p-value:                 4.237e-24\n============================================================================================\n                               coef    std err          z      P>|z|      [0.025      0.975]\n--------------------------------------------------------------------------------------------\nAge                         -0.0025      0.019     -0.134      0.893      -0.039       0.034\nBusinessTravel               0.8007      0.245      3.267      0.001       0.320       1.281\nDailyRate                   -0.0002      0.000     -0.568      0.570      -0.001       0.000\nDistanceFromHome             0.0349      0.016      2.201      0.028       0.004       0.066\nEducation                    0.0254      0.121      0.210      0.834      -0.212       0.262\nEmployeeNumber           -4.768e-05      0.000     -0.222      0.824      -0.000       0.000\nEnvironmentSatisfaction     -0.2375      0.110     -2.157      0.031      -0.453      -0.022\nGender                       0.1016      0.256      0.397      0.692      -0.400       0.603\nHourlyRate                   0.0038      0.006      0.627      0.530      -0.008       0.016\nJobInvolvement              -0.4485      0.171     -2.617      0.009      -0.784      -0.113\nJobLevel                     0.0621      0.391      0.159      0.874      -0.704       0.828\nJobSatisfaction             -0.3035      0.115     -2.645      0.008      -0.528      -0.079\nMonthlyIncome            -7.577e-05   9.61e-05     -0.788      0.430      -0.000       0.000\nMonthlyRate              -4.314e-06   1.82e-05     -0.237      0.813      -4e-05    3.13e-05\nNumCompaniesWorked           0.2399      0.059      4.091      0.000       0.125       0.355\nOverTime                     1.7617      0.273      6.455      0.000       1.227       2.297\nPercentSalaryHike           -0.1067      0.052     -2.042      0.041      -0.209      -0.004\nPerformanceRating            1.2404      0.415      2.990      0.003       0.427       2.054\nRelationshipSatisfaction    -0.1470      0.113     -1.301      0.193      -0.368       0.074\nStockOptionLevel            -0.5192      0.149     -3.493      0.000      -0.811      -0.228\nTotalWorkingYears           -0.0840      0.039     -2.143      0.032      -0.161      -0.007\nTrainingTimesLastYear       -0.0648      0.095     -0.683      0.495      -0.251       0.121\nWorkLifeBalance             -0.1304      0.162     -0.805      0.421      -0.448       0.187\nYearsAtCompany               0.0916      0.048      1.905      0.057      -0.003       0.186\nYearsInCurrentRole          -0.1434      0.065     -2.213      0.027      -0.270      -0.016\nYearsSinceLastPromotion      0.1931      0.056      3.447      0.001       0.083       0.303\nYearsWithCurrManager        -0.1542      0.062     -2.493      0.013      -0.275      -0.033\n============================================================================================\n",
     "output_type": "stream"
    }
   ]
  },
  {
   "cell_type": "markdown",
   "source": "## Ejercicio 4\nEjecute un modelo que contenga solo variables que sean significativas para el modelo. ¿Qué puedes concluir al respecto?",
   "metadata": {
    "cell_id": "19b47377-eb22-44bb-9a72-b38f67929204",
    "tags": [],
    "deepnote_cell_type": "markdown",
    "deepnote_cell_height": 108.390625
   }
  },
  {
   "cell_type": "code",
   "metadata": {
    "cell_id": "bff9ac8c-7ada-48f4-af58-e7260d398296",
    "tags": [],
    "deepnote_to_be_reexecuted": false,
    "source_hash": "bedaf9a9",
    "execution_start": 1647107031615,
    "execution_millis": 3,
    "deepnote_cell_type": "code",
    "deepnote_cell_height": 366.375
   },
   "source": "df_HR_sample_LR.drop(columns = ['Age','DailyRate','Education','EmployeeNumber','Gender','HourlyRate','JobLevel','MonthlyRate','NumCompaniesWorked','NumCompaniesWorked','OverTime','RelationshipSatisfaction','WorkLifeBalance','MonthlyIncome','DistanceFromHome','PercentSalaryHike','TrainingTimesLastYear','YearsAtCompany','EnvironmentSatisfaction','TotalWorkingYears'],inplace=True)\n\nnp.random.seed(135568109) # a seed makes the analysis reproducible\n                     # so everyone will get the same results\nndata = len(df_HR_sample_LR)\n# Randomly choose 0.8n indices between 1 and n\nidx_train = np.random.choice(range(ndata),int(0.8*ndata),replace=False)\n# The test set is comprised from all the indices that were\n# not selected in the training set:\nidx_test  = np.asarray(list(set(range(ndata)) - set(idx_train)))\ntrain     = df_HR_sample_LR.iloc[idx_train] # the training data set\ntest      = df_HR_sample_LR.iloc[idx_test]  # the test data set\nprint(train.shape) #\nprint(test.shape)  #  ",
   "execution_count": null,
   "outputs": [
    {
     "name": "stdout",
     "text": "(429, 9)\n(108, 9)\n",
     "output_type": "stream"
    }
   ]
  },
  {
   "cell_type": "code",
   "metadata": {
    "cell_id": "6a112aac-b037-4976-93c3-850d83ea69d0",
    "tags": [],
    "deepnote_to_be_reexecuted": false,
    "source_hash": "56d2ac64",
    "execution_start": 1647107031617,
    "execution_millis": 50,
    "deepnote_cell_type": "code",
    "deepnote_cell_height": 738.5
   },
   "source": "#Definition of input variables\nX_4 = train.drop(columns='Attrition')\n#Definition of output variable\ny_4 = train['Attrition']\n\n#Building the model and fitting the data\nlog_reg_4 = sm.Logit(y_4, X_4).fit()\n\n#Printing the summary table\nprint(log_reg_4.summary())",
   "execution_count": null,
   "outputs": [
    {
     "name": "stdout",
     "text": "Optimization terminated successfully.\n         Current function value: 0.592254\n         Iterations 6\n                           Logit Regression Results                           \n==============================================================================\nDep. Variable:              Attrition   No. Observations:                  429\nModel:                          Logit   Df Residuals:                      421\nMethod:                           MLE   Df Model:                            7\nDate:                Sat, 12 Mar 2022   Pseudo R-squ.:                  0.1409\nTime:                        17:43:51   Log-Likelihood:                -254.08\nconverged:                       True   LL-Null:                       -295.76\nCovariance Type:            nonrobust   LLR p-value:                 2.823e-15\n===========================================================================================\n                              coef    std err          z      P>|z|      [0.025      0.975]\n-------------------------------------------------------------------------------------------\nBusinessTravel              0.8143      0.209      3.889      0.000       0.404       1.225\nJobInvolvement             -0.4012      0.139     -2.881      0.004      -0.674      -0.128\nJobSatisfaction            -0.2393      0.095     -2.510      0.012      -0.426      -0.052\nPerformanceRating           0.4640      0.150      3.089      0.002       0.170       0.758\nStockOptionLevel           -0.3684      0.127     -2.891      0.004      -0.618      -0.119\nYearsInCurrentRole         -0.1591      0.051     -3.147      0.002      -0.258      -0.060\nYearsSinceLastPromotion     0.1685      0.047      3.595      0.000       0.077       0.260\nYearsWithCurrManager       -0.1228      0.048     -2.573      0.010      -0.216      -0.029\n===========================================================================================\n",
     "output_type": "stream"
    }
   ]
  },
  {
   "cell_type": "markdown",
   "source": "## Evaluación del modelo de regresión logística\n\nLa curva ROC es una curva que permite resumir todas las matrices de confusión que puede crear un modelo cambiando su umbral de clasificación. El umbral de clasificación es el punto de corte de la probabilidad calculada que separa las observaciones clasificadas como positivas y las observaciones clasificadas como negativas",
   "metadata": {
    "cell_id": "af990214-40a9-43c9-b372-9d739b568b72",
    "tags": [],
    "deepnote_cell_type": "markdown",
    "deepnote_cell_height": 153.1875
   }
  },
  {
   "cell_type": "code",
   "metadata": {
    "cell_id": "f12d4f3d-ac45-4163-a7d4-a0301eaf26b4",
    "tags": [],
    "deepnote_to_be_reexecuted": false,
    "source_hash": "cc5795e2",
    "execution_start": 1647107031669,
    "execution_millis": 264,
    "deepnote_cell_type": "code",
    "deepnote_cell_height": 701,
    "deepnote_output_heights": [
     280
    ]
   },
   "source": "predict_p = log_reg_4.predict(test[['BusinessTravel','JobInvolvement','JobSatisfaction','PerformanceRating','StockOptionLevel','YearsInCurrentRole','YearsSinceLastPromotion','YearsWithCurrManager']])\n#predict_2_p = logit_res2.predict(df6[['Intercept','loan_amnt','int_rate']])\nroc_p = roc_curve(test['Attrition'], predict_p)\n#roc_2_p = roc_curve(df6['loan_status'], predict_2_p)\n\nplt.figure()\nline_width = 2\nplt.plot(roc_p[0], roc_p[1], color='darkorange',\n         lw=line_width, label=f'ROC curve for logit_res')\n#plt.plot(roc_2_p[0], roc_2_p[1], color='darkgreen',\n         #lw=line_width, label=f'ROC curve for model in Ex 6')\nplt.plot([0, 1], [0, 1], color='navy', lw=line_width, linestyle='--', label='Random guess')\nplt.xlim([0.0, 1.0])\nplt.ylim([0.0, 1.05])\nplt.xlabel('False Positive Rate')\nplt.ylabel('True Positive Rate')\nplt.title('Classification of Defaulters')\nplt.legend(loc='lower right')\nplt.show()",
   "execution_count": null,
   "outputs": [
    {
     "data": {
      "text/plain": "<Figure size 432x288 with 1 Axes>",
      "image/png": "[encoded data removed]"
     },
     "metadata": {
      "needs_background": "light",
      "image/png": {
       "width": 394,
       "height": 278
      }
     },
     "output_type": "display_data"
    }
   ]
  },
  {
   "cell_type": "markdown",
   "source": "<a style='text-decoration:none;line-height:16px;display:flex;color:#5B5B62;padding:10px;justify-content:end;' href='https://deepnote.com?utm_source=created-in-deepnote-cell&projectId=6bb6c849-6b4b-49a2-8775-80ecb8e8b9b2' target=\"_blank\">\n<img alt='Created in deepnote.com' style='display:inline;max-height:16px;margin:0px;margin-right:7.5px;' src='data:image/svg+xml;base64,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' > </img>\nCreated in <span style='font-weight:600;margin-left:4px;'>Deepnote</span></a>",
   "metadata": {
    "tags": [],
    "created_in_deepnote_cell": true,
    "deepnote_cell_type": "markdown"
   }
  }
 ],
 "nbformat": 4,
 "nbformat_minor": 2,
 "metadata": {
  "orig_nbformat": 2,
  "deepnote": {
   "is_reactive": false
  },
  "deepnote_notebook_id": "652daecd-a022-4f79-a00f-d64f5d5a5ea0",
  "deepnote_execution_queue": []
 }
}